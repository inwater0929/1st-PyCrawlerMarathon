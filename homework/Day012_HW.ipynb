{
 "cells": [
  {
   "cell_type": "markdown",
   "metadata": {},
   "source": [
    "# Ettoday 網路爬蟲實作練習\n",
    "\n",
    "\n",
    "* 能夠利用 Request + BeatifulSour 撰寫爬蟲，並存放到合適的資料結構\n"
   ]
  },
  {
   "cell_type": "markdown",
   "metadata": {},
   "source": [
    "## 作業目標\n",
    "\n",
    "根據範例 ，完成以下問題：\n",
    "\n",
    "* ① 取出今天所有的發文\n",
    "* ② 如果想要依照類別分類，怎麼儲存會比較好？\n",
    "* ③ 哪一個類別的文章最多\n",
    "\n",
    "\n"
   ]
  },
  {
   "cell_type": "markdown",
   "metadata": {},
   "source": [
    "### ① 取出今天所有的發文"
   ]
  },
  {
   "cell_type": "code",
   "execution_count": 71,
   "metadata": {},
   "outputs": [
    {
     "data": {
      "text/html": "<div>\n<style scoped>\n    .dataframe tbody tr th:only-of-type {\n        vertical-align: middle;\n    }\n\n    .dataframe tbody tr th {\n        vertical-align: top;\n    }\n\n    .dataframe thead th {\n        text-align: right;\n    }\n</style>\n<table border=\"1\" class=\"dataframe\">\n  <thead>\n    <tr style=\"text-align: right;\">\n      <th></th>\n      <th>time</th>\n      <th>title</th>\n    </tr>\n  </thead>\n  <tbody>\n    <tr>\n      <th>0</th>\n      <td>2020/02/29 11:16</td>\n      <td>非法看護成防疫漏洞　台南市勞工局教民眾「證件驗分明留證保權益」！</td>\n    </tr>\n    <tr>\n      <th>1</th>\n      <td>2020/02/29 11:15</td>\n      <td>巴黎直播／愛馬仕秋冬高跟鞋踩金鍊！3／1凌晨看新包</td>\n    </tr>\n    <tr>\n      <th>2</th>\n      <td>2020/02/29 11:15</td>\n      <td>伊朗國會宣布休會！高官議員頻確診「副總統、副衛長」都中鏢</td>\n    </tr>\n    <tr>\n      <th>3</th>\n      <td>2020/02/29 11:11</td>\n      <td>皮Q、肉餡飽滿！南投神出鬼沒肉圓　還有招牌碗粿米香濃郁</td>\n    </tr>\n    <tr>\n      <th>4</th>\n      <td>2020/02/29 11:10</td>\n      <td>瀕臨社區感染邊緣！感染科名醫：健康者「不戴口罩」恐已不適用</td>\n    </tr>\n    <tr>\n      <th>...</th>\n      <td>...</td>\n      <td>...</td>\n    </tr>\n    <tr>\n      <th>95</th>\n      <td>2020/02/29 02:01</td>\n      <td>長毛汪慘遭忽視…獲救後嚕掉1.8kg　變身超帥氣美型犬</td>\n    </tr>\n    <tr>\n      <th>96</th>\n      <td>2020/02/29 01:57</td>\n      <td>台北醫師、女子猝死遭疑新冠肺炎…結果出爐！法務部訂「相驗解剖SOP」</td>\n    </tr>\n    <tr>\n      <th>97</th>\n      <td>2020/02/29 01:49</td>\n      <td>快訊／義大利又暴增171例！累計確診821例　21人感染後死亡</td>\n    </tr>\n    <tr>\n      <th>98</th>\n      <td>2020/02/29 01:29</td>\n      <td>32例女移工2/27曾到淡水　里長緊急發動「竹圍捷運站」附近全面大消毒！</td>\n    </tr>\n    <tr>\n      <th>99</th>\n      <td>2020/02/29 01:18</td>\n      <td>快訊／冰島首例確診！人間淨土失守了　32人秒被隔離</td>\n    </tr>\n  </tbody>\n</table>\n<p>100 rows × 2 columns</p>\n</div>",
      "text/plain": "                time                                 title\n0   2020/02/29 11:16      非法看護成防疫漏洞　台南市勞工局教民眾「證件驗分明留證保權益」！\n1   2020/02/29 11:15             巴黎直播／愛馬仕秋冬高跟鞋踩金鍊！3／1凌晨看新包\n2   2020/02/29 11:15          伊朗國會宣布休會！高官議員頻確診「副總統、副衛長」都中鏢\n3   2020/02/29 11:11           皮Q、肉餡飽滿！南投神出鬼沒肉圓　還有招牌碗粿米香濃郁\n4   2020/02/29 11:10         瀕臨社區感染邊緣！感染科名醫：健康者「不戴口罩」恐已不適用\n..               ...                                   ...\n95  2020/02/29 02:01           長毛汪慘遭忽視…獲救後嚕掉1.8kg　變身超帥氣美型犬\n96  2020/02/29 01:57    台北醫師、女子猝死遭疑新冠肺炎…結果出爐！法務部訂「相驗解剖SOP」\n97  2020/02/29 01:49       快訊／義大利又暴增171例！累計確診821例　21人感染後死亡\n98  2020/02/29 01:29  32例女移工2/27曾到淡水　里長緊急發動「竹圍捷運站」附近全面大消毒！\n99  2020/02/29 01:18             快訊／冰島首例確診！人間淨土失守了　32人秒被隔離\n\n[100 rows x 2 columns]"
     },
     "execution_count": 71,
     "metadata": {},
     "output_type": "execute_result"
    }
   ],
   "source": [
    "import requests\n",
    "from bs4 import BeautifulSoup\n",
    "import pandas as pd\n",
    "\n",
    "url = 'https://www.ettoday.net/news/news-list.htm'\n",
    "r = requests.get(url)\n",
    "news_list=[]\n",
    "soup = BeautifulSoup(r.text, \"html.parser\")\n",
    "for d in soup.find(class_='part_list_2').find_all('h3'):\n",
    "    a=[d.find(class_='date').text,d.find_all('a')[0].text]\n",
    "    news_list.append(a)\n",
    "news_list=pd.DataFrame(news_list)\n",
    "news_list.columns=['time','title']\n",
    "news_list"
   ]
  },
  {
   "cell_type": "markdown",
   "metadata": {},
   "source": [
    "### ② 如果想要依照類別分類，怎麼儲存會比較好？"
   ]
  },
  {
   "cell_type": "code",
   "execution_count": 89,
   "metadata": {},
   "outputs": [
    {
     "data": {
      "text/html": "<div>\n<style scoped>\n    .dataframe tbody tr th:only-of-type {\n        vertical-align: middle;\n    }\n\n    .dataframe tbody tr th {\n        vertical-align: top;\n    }\n\n    .dataframe thead th {\n        text-align: right;\n    }\n</style>\n<table border=\"1\" class=\"dataframe\">\n  <thead>\n    <tr style=\"text-align: right;\">\n      <th></th>\n      <th>time</th>\n      <th>title</th>\n      <th>type</th>\n    </tr>\n  </thead>\n  <tbody>\n    <tr>\n      <th>0</th>\n      <td>2020/02/29 11:22</td>\n      <td>鈴鐺汪街上閒晃「兩津濃眉」超搶戲　她以為遭惡作劇...走近一看笑噴！</td>\n      <td>寵物動物</td>\n    </tr>\n    <tr>\n      <th>1</th>\n      <td>2020/02/29 11:21</td>\n      <td>超刺激攀岩場！台南純白六星露營農場　還能打麻將、賞最美夕陽</td>\n      <td>旅遊</td>\n    </tr>\n    <tr>\n      <th>2</th>\n      <td>2020/02/29 11:20</td>\n      <td>川普禁「發表新冠病毒言論」　美官員：只是口徑要一致而已！</td>\n      <td>國際</td>\n    </tr>\n    <tr>\n      <th>3</th>\n      <td>2020/02/29 11:17</td>\n      <td>不斷更新／南韓新增1死「病患在大邱」　境內死亡人數達17人！</td>\n      <td>國際</td>\n    </tr>\n    <tr>\n      <th>4</th>\n      <td>2020/02/29 11:16</td>\n      <td>非法看護成防疫漏洞　台南市勞工局教民眾「證件驗分明留證保權益」！</td>\n      <td>地方</td>\n    </tr>\n    <tr>\n      <th>...</th>\n      <td>...</td>\n      <td>...</td>\n      <td>...</td>\n    </tr>\n    <tr>\n      <th>95</th>\n      <td>2020/02/29 02:30</td>\n      <td>狗界羅蘭德！帥汪髮質柔順閃亮　網狂冒愛心：代言洗髮精我會買</td>\n      <td>寵物動物</td>\n    </tr>\n    <tr>\n      <th>96</th>\n      <td>2020/02/29 02:29</td>\n      <td>實驗室汪送進收容所　對每個經過的人露齒燦笑…超治癒</td>\n      <td>寵物動物</td>\n    </tr>\n    <tr>\n      <th>97</th>\n      <td>2020/02/29 02:05</td>\n      <td>得來速等不及…汪直接從車窗跳櫃檯　主人糗爆一秒扭上車</td>\n      <td>寵物動物</td>\n    </tr>\n    <tr>\n      <th>98</th>\n      <td>2020/02/29 02:01</td>\n      <td>長毛汪慘遭忽視…獲救後嚕掉1.8kg　變身超帥氣美型犬</td>\n      <td>寵物動物</td>\n    </tr>\n    <tr>\n      <th>99</th>\n      <td>2020/02/29 01:57</td>\n      <td>台北醫師、女子猝死遭疑新冠肺炎…結果出爐！法務部訂「相驗解剖SOP」</td>\n      <td>政治</td>\n    </tr>\n  </tbody>\n</table>\n<p>100 rows × 3 columns</p>\n</div>",
      "text/plain": "                time                               title  type\n0   2020/02/29 11:22  鈴鐺汪街上閒晃「兩津濃眉」超搶戲　她以為遭惡作劇...走近一看笑噴！  寵物動物\n1   2020/02/29 11:21       超刺激攀岩場！台南純白六星露營農場　還能打麻將、賞最美夕陽    旅遊\n2   2020/02/29 11:20        川普禁「發表新冠病毒言論」　美官員：只是口徑要一致而已！    國際\n3   2020/02/29 11:17      不斷更新／南韓新增1死「病患在大邱」　境內死亡人數達17人！    國際\n4   2020/02/29 11:16    非法看護成防疫漏洞　台南市勞工局教民眾「證件驗分明留證保權益」！    地方\n..               ...                                 ...   ...\n95  2020/02/29 02:30       狗界羅蘭德！帥汪髮質柔順閃亮　網狂冒愛心：代言洗髮精我會買  寵物動物\n96  2020/02/29 02:29           實驗室汪送進收容所　對每個經過的人露齒燦笑…超治癒  寵物動物\n97  2020/02/29 02:05          得來速等不及…汪直接從車窗跳櫃檯　主人糗爆一秒扭上車  寵物動物\n98  2020/02/29 02:01         長毛汪慘遭忽視…獲救後嚕掉1.8kg　變身超帥氣美型犬  寵物動物\n99  2020/02/29 01:57  台北醫師、女子猝死遭疑新冠肺炎…結果出爐！法務部訂「相驗解剖SOP」    政治\n\n[100 rows x 3 columns]"
     },
     "execution_count": 89,
     "metadata": {},
     "output_type": "execute_result"
    }
   ],
   "source": [
    "import requests\n",
    "from bs4 import BeautifulSoup\n",
    "import pandas as pd\n",
    "\n",
    "url = 'https://www.ettoday.net/news/news-list.htm'\n",
    "r = requests.get(url)\n",
    "news_list=[]\n",
    "soup = BeautifulSoup(r.text, \"html.parser\")\n",
    "for d in soup.find(class_='part_list_2').find_all('h3'):\n",
    "    a=[d.find(class_='date').text,d.find_all('a')[0].text,d.find_all('em')[0].text]\n",
    "    news_list.append(a)\n",
    "news_list=pd.DataFrame(news_list)\n",
    "news_list.columns=['time','title','type']\n",
    "news_list"
   ]
  },
  {
   "cell_type": "markdown",
   "metadata": {},
   "source": [
    "### ③ 哪一個類別的文章最多"
   ]
  },
  {
   "cell_type": "code",
   "execution_count": 120,
   "metadata": {},
   "outputs": [
    {
     "name": "stdout",
     "output_type": "stream",
     "text": "類別是 國際 的文章最多，共 15 筆\n"
    }
   ],
   "source": [
    "a=news_list['type'].value_counts()\n",
    "print('類別是',a.index[0],'的文章最多，共',a[0],'筆')"
   ]
  },
  {
   "cell_type": "code",
   "execution_count": null,
   "metadata": {},
   "outputs": [],
   "source": []
  }
 ],
 "metadata": {
  "kernelspec": {
   "display_name": "Python 3",
   "language": "python",
   "name": "python3"
  },
  "language_info": {
   "codemirror_mode": {
    "name": "ipython",
    "version": 3
   },
   "file_extension": ".py",
   "mimetype": "text/x-python",
   "name": "python",
   "nbconvert_exporter": "python",
   "pygments_lexer": "ipython3",
   "version": "3.7.4-final"
  }
 },
 "nbformat": 4,
 "nbformat_minor": 2
}