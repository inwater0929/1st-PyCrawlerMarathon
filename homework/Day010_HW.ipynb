{
 "cells": [
  {
   "cell_type": "markdown",
   "metadata": {},
   "source": [
    "# 其他工具：Grab、PyQuery\n",
    "\n",
    "\n",
    "* 利用 Grab 套件的存取 HTML 資源\n",
    "* 利用 PyQuery 套件的解析 HTML 格式\n"
   ]
  },
  {
   "cell_type": "markdown",
   "metadata": {},
   "source": [
    "## 作業目標\n",
    "\n",
    "將之前用 requests + beatifulsoup 實作的方式，改寫成 grab + pyquery，並且比較有哪些地方不同。\n",
    "\n",
    "\n",
    "\n"
   ]
  },
  {
   "cell_type": "markdown",
   "metadata": {},
   "source": [
    "## requests + BeautifulSoup\n"
   ]
  },
  {
   "cell_type": "code",
   "execution_count": 68,
   "metadata": {},
   "outputs": [
    {
     "name": "stdout",
     "output_type": "stream",
     "text": "good\n標題: 「史上最慘」連煙火都被取消了 網址: https://tw.news.yahoo.com/%E7%B6%AD%E6%B8%AF%E7%85%99%E7%81%AB%E6%B2%92%E4%BA%86-%E9%A6%99%E6%B8%AF%E5%8F%B2%E4%B8%8A%E6%9C%80%E6%85%98%E8%B7%A8%E5%B9%B4-%E9%A3%AF%E5%BA%97%E6%A5%AD%E5%83%B9%E6%A0%BC%E6%AE%BA%E5%88%B0%E8%A6%8B%E9%AA%A8-034229219.html\n標題: 跨年夜好凍「冷空氣最強時刻」 網址: https://tw.news.yahoo.com/%E8%B7%A8%E5%B9%B4%E8%A8%98%E5%BE%97%E7%A9%BF%E6%9A%96%E5%B8%B6%E5%82%98-%E9%80%B1%E4%BA%8C%E4%B8%AD%E9%83%A8%E4%BB%A5%E5%8C%97%E4%BD%8E%E6%BA%AB%E4%B8%8B%E6%8E%A214%E5%BA%A6-102454702.html\n標題: 韓台中造勢 驚人空拍畫面曝光 網址: https://tw.news.yahoo.com/%E9%A9%9A%E4%BA%BA-%E9%9F%93%E5%9C%8B%E7%91%9C%E5%8F%B0%E4%B8%AD%E9%80%A0%E5%8B%A2%E7%A9%BA%E6%8B%8D%E6%9B%9D-%E9%96%8B%E5%A0%B4%E8%81%9A7%E8%90%AC%E4%BA%BA-115100584.html\n"
    }
   ],
   "source": [
    "# requests + BeautifulSoup：下載 Yahoo 頭條新聞\n",
    "import requests\n",
    "from bs4 import BeautifulSoup\n",
    "# 下載 Yahoo 首頁內容\n",
    "r = requests.get('https://tw.yahoo.com/')\n",
    "# 確認是否下載成功\n",
    "if r.status_code==requests.codes.ok:\n",
    "    print('good')\n",
    "    # 以 BeautifulSoup 解析 HTML 程式碼\n",
    "    soup=BeautifulSoup(r.text)\n",
    "    # 以 CSS 的 class 抓出各類頭條新聞\n",
    "    stories=soup.find_all('a',class_='story-title')\n",
    "    a=0\n",
    "    for s in stories:\n",
    "        print('標題:',s.text,'網址:',s.get('href'))\n",
    "        a=a+1\n",
    "        if a==3:break"
   ]
  },
  {
   "cell_type": "markdown",
   "metadata": {},
   "source": [
    "## Grab + PyQuery"
   ]
  },
  {
   "cell_type": "code",
   "execution_count": 61,
   "metadata": {},
   "outputs": [
    {
     "name": "stdout",
     "output_type": "stream",
     "text": "0\n標題： 「史上最慘」連煙火都被取消了\n網址： https://tw.news.yahoo.com/%E7%B6%AD%E6%B8%AF%E7%85%99%E7%81%AB%E6%B2%92%E4%BA%86-%E9%A6%99%E6%B8%AF%E5%8F%B2%E4%B8%8A%E6%9C%80%E6%85%98%E8%B7%A8%E5%B9%B4-%E9%A3%AF%E5%BA%97%E6%A5%AD%E5%83%B9%E6%A0%BC%E6%AE%BA%E5%88%B0%E8%A6%8B%E9%AA%A8-034229219.html\n1\n標題： 跨年夜好凍「冷空氣最強時刻」\n網址： https://tw.news.yahoo.com/%E8%B7%A8%E5%B9%B4%E8%A8%98%E5%BE%97%E7%A9%BF%E6%9A%96%E5%B8%B6%E5%82%98-%E9%80%B1%E4%BA%8C%E4%B8%AD%E9%83%A8%E4%BB%A5%E5%8C%97%E4%BD%8E%E6%BA%AB%E4%B8%8B%E6%8E%A214%E5%BA%A6-102454702.html\n2\n標題： 韓台中造勢 驚人空拍畫面曝光\n網址： https://tw.news.yahoo.com/%E9%A9%9A%E4%BA%BA-%E9%9F%93%E5%9C%8B%E7%91%9C%E5%8F%B0%E4%B8%AD%E9%80%A0%E5%8B%A2%E7%A9%BA%E6%8B%8D%E6%9B%9D-%E9%96%8B%E5%A0%B4%E8%81%9A7%E8%90%AC%E4%BA%BA-115100584.html\n"
    }
   ],
   "source": [
    "# Grab + PyQuery：下載 Yahoo 頭條新聞\n",
    "from grab import Grab\n",
    "from pyquery import PyQuery as pq\n",
    "g = Grab()\n",
    "url = 'https://tw.yahoo.com/'\n",
    "resp = g.go(url)\n",
    "#print(type(resp.body))\n",
    "#print(type(resp.unicode_body()))\n",
    "doc = pq(resp.body)\n",
    "a = 0\n",
    "for i in range(len(doc('a')('.story-title'))):\n",
    "    print(a)\n",
    "    print('標題：', doc('a')('.story-title').eq(i).text())\n",
    "    print('網址：', doc('a')('.story-title').eq(i).attr('href'))\n",
    "    # 只下載前三則\n",
    "    a += 1\n",
    "    if a == 3:\n",
    "        break"
   ]
  },
  {
   "cell_type": "code",
   "execution_count": null,
   "metadata": {},
   "outputs": [],
   "source": []
  }
 ],
 "metadata": {
  "kernelspec": {
   "display_name": "Python 3",
   "language": "python",
   "name": "python3"
  },
  "language_info": {
   "codemirror_mode": {
    "name": "ipython",
    "version": 3
   },
   "file_extension": ".py",
   "mimetype": "text/x-python",
   "name": "python",
   "nbconvert_exporter": "python",
   "pygments_lexer": "ipython3",
   "version": "3.7.4"
  }
 },
 "nbformat": 4,
 "nbformat_minor": 2
}