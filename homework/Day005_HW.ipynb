{
 "cells": [
  {
   "cell_type": "markdown",
   "metadata": {},
   "source": [
    "# API 資料串接 - 以 Dcard API 實作範例\n",
    "\n",
    "* 了解 Dcard API 使用方式與回傳內容\n",
    "* 撰寫程式存取 API 且解析 JSON 格式資料\n"
   ]
  },
  {
   "cell_type": "markdown",
   "metadata": {},
   "source": [
    "## 作業目標\n",
    "\n",
    "* 請利用 API: https://www.dcard.tw/_api/forums/pet/posts?popular=true 回答下列問題：\n",
    "\n",
    "1. 這個 API 一次會回傳幾筆資料？每一筆資料包含哪些欄位？\n",
    "2. 取出每一筆資料的「標題」、「貼文時間」、「留言人數」、「按讚人數」\n",
    "3. 計算熱門/非熱門文章的「平均留言人數」與「平均按讚人數」"
   ]
  },
  {
   "cell_type": "code",
   "execution_count": 11,
   "metadata": {},
   "outputs": [
    {
     "name": "stdout",
     "output_type": "stream",
     "text": "這個 API 一次會回傳 32 筆資料\n每一筆資料包含的欄位有 ['id', 'title', 'excerpt', 'anonymousSchool', 'anonymousDepartment', 'pinned', 'forumId', 'replyId', 'createdAt', 'updatedAt', 'commentCount', 'likeCount', 'withNickname', 'tags', 'topics', 'meta', 'forumName', 'forumAlias', 'gender', 'school', 'replyTitle', 'mediaMeta', 'reactions', 'hidden', 'customStyle', 'isSuspiciousAccount', 'layout', 'withImages', 'withVideos', 'media', 'reportReasonText', 'postAvatar']\n"
    }
   ],
   "source": [
    "# 1. 這個 API 一次會回傳幾筆資料？每一筆資料包含哪些欄位？\n",
    "\n",
    "import requests\n",
    "import json\n",
    "response = requests.get('https://www.dcard.tw/_api/forums/pet/posts?popular=true')\n",
    "data=json.loads(response.text)\n",
    "print('這個 API 一次會回傳',len(data[0]),'筆資料')\n",
    "print('每一筆資料包含的欄位有',list(data[0]))\n"
   ]
  },
  {
   "cell_type": "code",
   "execution_count": 36,
   "metadata": {},
   "outputs": [
    {
     "name": "stdout",
     "output_type": "stream",
     "text": "第1筆資料\n標題： 貓的報恩都是假的！\n貼文時間： 2019-12-27T22:45:23.744Z\n留言人數： 51\n按讚人數： 4067\n\n\n第2筆資料\n標題： 養兩周的狗狗被醫生說得腫瘤\n貼文時間： 2019-12-28T02:26:22.473Z\n留言人數： 58\n按讚人數： 865\n\n\n第3筆資料\n標題： 你在泡澡嗎\n貼文時間： 2019-12-28T08:22:14.450Z\n留言人數： 6\n按讚人數： 674\n\n\n第4筆資料\n標題： 厭世貓把眼睛張開的時候\n貼文時間： 2019-12-28T21:03:30.065Z\n留言人數： 6\n按讚人數： 145\n\n\n第5筆資料\n標題： 牠們還能消耗多久\n貼文時間： 2019-12-29T05:25:32.831Z\n留言人數： 21\n按讚人數： 134\n\n\n第6筆資料\n標題： 一到冬天就變蓬\n貼文時間： 2019-12-28T12:24:47.787Z\n留言人數： 12\n按讚人數： 102\n\n\n第7筆資料\n標題： 療癒人心的 #柴藝術家 （內有黃金慎入\n貼文時間： 2019-12-28T08:24:19.445Z\n留言人數： 4\n按讚人數： 40\n\n\n第8筆資料\n標題： 崩壞貓貓\n貼文時間： 2019-12-28T14:04:57.252Z\n留言人數： 5\n按讚人數： 29\n\n\n第9筆資料\n標題： 再見了寶貝布丁\n貼文時間： 2019-12-28T12:33:31.493Z\n留言人數： 9\n按讚人數： 27\n\n\n第10筆資料\n標題： 不能去大陸的狗🤣🤣🤣\n貼文時間： 2019-12-29T01:15:31.634Z\n留言人數： 4\n按讚人數： 25\n\n\n第11筆資料\n標題： 最近迪卡好多兔子🐰\n貼文時間： 2019-12-28T12:24:34.864Z\n留言人數： 3\n按讚人數： 22\n\n\n第12筆資料\n標題： ✨我家的小臘腸\n貼文時間： 2019-12-28T18:55:53.778Z\n留言人數： 2\n按讚人數： 20\n\n\n第13筆資料\n標題： 可愛的孩紙🐰\n貼文時間： 2019-12-28T11:43:30.990Z\n留言人數： 3\n按讚人數： 18\n\n\n第14筆資料\n標題： 愛拜託的狗+自製寵物春聯\n貼文時間： 2019-12-28T12:07:25.637Z\n留言人數： 4\n按讚人數： 17\n\n\n第15筆資料\n標題： #鼠寶 嗨 肉咖 下輩子投胎要當人ㄛ\n貼文時間： 2019-12-28T10:09:45.747Z\n留言人數： 1\n按讚人數： 17\n\n\n第16筆資料\n標題： 猴死囝仔 給我出來接受審判\n貼文時間： 2019-12-29T03:05:40.003Z\n留言人數： 3\n按讚人數： 16\n\n\n第17筆資料\n標題： #圖多 貓的睡姿能有多醜？\n貼文時間： 2019-12-28T11:26:24.245Z\n留言人數： 6\n按讚人數： 12\n\n\n第18筆資料\n標題： 我ㄉ好朋友\n貼文時間： 2019-12-28T12:58:06.849Z\n留言人數： 1\n按讚人數： 10\n\n\n第19筆資料\n標題： 總是被說醜醜美\n貼文時間： 2019-12-28T11:28:02.773Z\n留言人數： 4\n按讚人數： 10\n\n\n第20筆資料\n標題： 領養的黃金鼠有心臟病\n貼文時間： 2019-12-28T19:11:26.509Z\n留言人數： 3\n按讚人數： 9\n\n\n第21筆資料\n標題： 尋狗/台北/拉布拉多\n貼文時間： 2019-12-28T19:07:43.678Z\n留言人數： 0\n按讚人數： 9\n\n\n第22筆資料\n標題： 🐶花童禮服❤️\n貼文時間： 2019-12-28T13:38:15.061Z\n留言人數： 0\n按讚人數： 9\n\n\n第23筆資料\n標題： 我是一條花生\n貼文時間： 2019-12-29T06:25:42.292Z\n留言人數： 3\n按讚人數： 8\n\n\n第24筆資料\n標題： 被誤會的奶🤔\n貼文時間： 2019-12-29T06:42:54.774Z\n留言人數： 1\n按讚人數： 7\n\n\n第25筆資料\n標題： 太晚回家，我家的貓在抗議！🤣\n貼文時間： 2019-12-28T15:19:27.121Z\n留言人數： 3\n按讚人數： 7\n\n\n第26筆資料\n標題： #推薦#分享#多圖#文多#超讓人放心的高雄寵物旅館\n貼文時間： 2019-12-28T14:55:34.586Z\n留言人數： 2\n按讚人數： 6\n\n\n第27筆資料\n標題： 今天的寵物版限時都是兔子🐰\n貼文時間： 2019-12-28T10:03:24.161Z\n留言人數： 3\n按讚人數： 6\n\n\n第28筆資料\n標題： 跨年？\n貼文時間： 2019-12-29T03:45:43.494Z\n留言人數： 2\n按讚人數： 5\n\n\n第29筆資料\n標題： 倉鼠的水壺不小心加到熱水\n貼文時間： 2019-12-28T08:09:47.132Z\n留言人數： 4\n按讚人數： 5\n\n\n第30筆資料\n標題： 幫忙找毛小孩\n貼文時間： 2019-12-29T07:26:18.931Z\n留言人數： 0\n按讚人數： 4\n\n\n"
    }
   ],
   "source": [
    "# 2. 取出每一筆資料的「標題」、「貼文時間」、「留言人數」、「按讚人數」\n",
    "import requests\n",
    "import json\n",
    "response = requests.get('https://www.dcard.tw/_api/forums/pet/posts?popular=true')\n",
    "data=json.loads(response.text)\n",
    "n=1\n",
    "for i in data:\n",
    "    print(f\"第{n}筆資料\")\n",
    "    print(f\"標題： {i['title']}\")\n",
    "    print(f\"貼文時間： {i['createdAt']}\")\n",
    "    print(f\"留言人數： {i['commentCount']}\")\n",
    "    print(f\"按讚人數： {i['likeCount']}\")\n",
    "    print('\\n')\n",
    "    n=n+1"
   ]
  },
  {
   "cell_type": "code",
   "execution_count": 54,
   "metadata": {},
   "outputs": [
    {
     "name": "stdout",
     "output_type": "stream",
     "text": "熱門文章的平均留言人數:  {7.733333333333333}\n熱門文章的平均按讚人數:  {219.4}\n非熱門文章的平均留言人數:  {2.433333333333333}\n非熱門文章的平均按讚人數:  {15.066666666666666}\n"
    }
   ],
   "source": [
    "# 3. 計算熱門/非熱門文章的「平均留言人數」與「平均按讚人數」\n",
    "\n",
    "import requests\n",
    "import json\n",
    "from pandas import DataFrame\n",
    "import numpy as np\n",
    "response = requests.get('https://www.dcard.tw/_api/forums/pet/posts?popular=true')\n",
    "data=json.loads(response.text)\n",
    "df=DataFrame(data)\n",
    "print('熱門文章的平均留言人數: ',{np.average(df['commentCount'])})\n",
    "print('熱門文章的平均按讚人數: ',{np.average(df['likeCount'])})\n",
    "response = requests.get('https://www.dcard.tw/_api/forums/pet/posts?popular=false')\n",
    "data=json.loads(response.text)\n",
    "df=DataFrame(data)\n",
    "print('非熱門文章的平均留言人數: ',{np.average(df['commentCount'])})\n",
    "print('非熱門文章的平均按讚人數: ',{np.average(df['likeCount'])})"
   ]
  },
  {
   "cell_type": "code",
   "execution_count": null,
   "metadata": {},
   "outputs": [],
   "source": []
  },
  {
   "cell_type": "code",
   "execution_count": null,
   "metadata": {},
   "outputs": [],
   "source": []
  }
 ],
 "metadata": {
  "kernelspec": {
   "display_name": "Python 3",
   "language": "python",
   "name": "python3"
  },
  "language_info": {
   "codemirror_mode": {
    "name": "ipython",
    "version": 3
   },
   "file_extension": ".py",
   "mimetype": "text/x-python",
   "name": "python",
   "nbconvert_exporter": "python",
   "pygments_lexer": "ipython3",
   "version": "3.7.4"
  }
 },
 "nbformat": 4,
 "nbformat_minor": 2
}