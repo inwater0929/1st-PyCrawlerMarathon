{
 "cells": [
  {
   "cell_type": "markdown",
   "metadata": {},
   "source": [
    "# PTT 網路爬蟲實作練習\n",
    "\n",
    "\n",
    "* 能夠利用 Request + BeatifulSour 撰寫爬蟲，並存放到合適的資料結構\n"
   ]
  },
  {
   "cell_type": "markdown",
   "metadata": {},
   "source": [
    "## 作業目標\n",
    "\n",
    "根據範例 ，完成以下問題：\n",
    "\n",
    "* ① 印出最新文章的「作者」「標題」「時間」\n",
    "* ② 印出第一頁所有文章的「作者」「標題」「時間」\n"
   ]
  },
  {
   "cell_type": "markdown",
   "metadata": {},
   "source": [
    "### ① 印出最新文章的「作者」「標題」「時間」"
   ]
  },
  {
   "cell_type": "code",
   "execution_count": 35,
   "metadata": {},
   "outputs": [],
   "source": [
    "import requests\n",
    "from bs4 import BeautifulSoup\n",
    "import pandas as pd\n",
    "url='https://www.ptt.cc/bbs/NBA/index.html'\n",
    "r=requests.get(url)\n",
    "soup=BeautifulSoup(r.text,'html.parser')\n",
    "news_list=[]\n",
    "for d in soup.find_all(class_='r-ent'):\n",
    "    a=[d.find_all(class_='author')[0].text,d.find_all(class_='title')[0].text.replace('\\n',''),d.find_all(class_='date')[0].text]\n",
    "    news_list.append(a)\n",
    "news_list=pd.DataFrame(news_list)\n",
    "news_list.columns=['author','title','date']"
   ]
  },
  {
   "cell_type": "markdown",
   "metadata": {},
   "source": [
    "### ② 印出第一頁所有文章的「作者」「標題」「時間」"
   ]
  },
  {
   "cell_type": "code",
   "execution_count": 37,
   "metadata": {},
   "outputs": [
    {
     "data": {
      "text/html": "<div>\n<style scoped>\n    .dataframe tbody tr th:only-of-type {\n        vertical-align: middle;\n    }\n\n    .dataframe tbody tr th {\n        vertical-align: top;\n    }\n\n    .dataframe thead th {\n        text-align: right;\n    }\n</style>\n<table border=\"1\" class=\"dataframe\">\n  <thead>\n    <tr style=\"text-align: right;\">\n      <th></th>\n      <th>author</th>\n      <th>title</th>\n      <th>date</th>\n    </tr>\n  </thead>\n  <tbody>\n    <tr>\n      <th>0</th>\n      <td>Rambo</td>\n      <td>[BOX ] Kings 104:101 Grizzlies 數據</td>\n      <td>2/29</td>\n    </tr>\n    <tr>\n      <th>1</th>\n      <td>NCTULaoda</td>\n      <td>Re: [Live] 金塊 @ 快艇</td>\n      <td>2/29</td>\n    </tr>\n    <tr>\n      <th>2</th>\n      <td>Rambo</td>\n      <td>[BOX ] Mavericks 118:126 Heat 數據</td>\n      <td>2/29</td>\n    </tr>\n    <tr>\n      <th>3</th>\n      <td>thnlkj0665</td>\n      <td>[情報] Zion Williamson 連續十場至少得到20分</td>\n      <td>2/29</td>\n    </tr>\n    <tr>\n      <th>4</th>\n      <td>kblover</td>\n      <td>Re: [討論] 嘴綠的價值/定位？</td>\n      <td>2/29</td>\n    </tr>\n    <tr>\n      <th>5</th>\n      <td>cody7052</td>\n      <td>[情報] CJ談字母哥：若容易，每個長人都大殺四方</td>\n      <td>2/29</td>\n    </tr>\n    <tr>\n      <th>6</th>\n      <td>Vedan</td>\n      <td>[公告] 板規v6.8</td>\n      <td>5/24</td>\n    </tr>\n    <tr>\n      <th>7</th>\n      <td>qazwsx879345</td>\n      <td>[公告] 版主上任相關事項</td>\n      <td>10/25</td>\n    </tr>\n    <tr>\n      <th>8</th>\n      <td>Acetoxy</td>\n      <td>[情報] SEASON Schedule 賽程 February 19–20</td>\n      <td>1/31</td>\n    </tr>\n  </tbody>\n</table>\n</div>",
      "text/plain": "         author                                   title   date\n0         Rambo       [BOX ] Kings 104:101 Grizzlies 數據   2/29\n1     NCTULaoda                      Re: [Live] 金塊 @ 快艇   2/29\n2         Rambo        [BOX ] Mavericks 118:126 Heat 數據   2/29\n3    thnlkj0665        [情報] Zion Williamson 連續十場至少得到20分   2/29\n4       kblover                      Re: [討論] 嘴綠的價值/定位？   2/29\n5      cody7052               [情報] CJ談字母哥：若容易，每個長人都大殺四方   2/29\n6         Vedan                             [公告] 板規v6.8   5/24\n7  qazwsx879345                          [公告] 版主上任相關事項   10/25\n8       Acetoxy  [情報] SEASON Schedule 賽程 February 19–20   1/31"
     },
     "execution_count": 37,
     "metadata": {},
     "output_type": "execute_result"
    }
   ],
   "source": [
    "news_list"
   ]
  },
  {
   "cell_type": "markdown",
   "metadata": {},
   "source": [
    "### ③ 試著爬爬看其他版的文章"
   ]
  },
  {
   "cell_type": "code",
   "execution_count": 66,
   "metadata": {},
   "outputs": [
    {
     "data": {
      "text/html": "<div>\n<style scoped>\n    .dataframe tbody tr th:only-of-type {\n        vertical-align: middle;\n    }\n\n    .dataframe tbody tr th {\n        vertical-align: top;\n    }\n\n    .dataframe thead th {\n        text-align: right;\n    }\n</style>\n<table border=\"1\" class=\"dataframe\">\n  <thead>\n    <tr style=\"text-align: right;\">\n      <th></th>\n      <th>author</th>\n      <th>title</th>\n      <th>date</th>\n    </tr>\n  </thead>\n  <tbody>\n    <tr>\n      <th>0</th>\n      <td>clm6688</td>\n      <td>[請益] 成大會研備取問題</td>\n      <td>2/28</td>\n    </tr>\n    <tr>\n      <th>1</th>\n      <td>csom</td>\n      <td>[請益] 代PO_中興資工教授推薦(在職)</td>\n      <td>2/28</td>\n    </tr>\n    <tr>\n      <th>2</th>\n      <td>zzz4414</td>\n      <td>[閒聊] 遇過lab有哪些奇葩的收人方式</td>\n      <td>2/28</td>\n    </tr>\n    <tr>\n      <th>3</th>\n      <td>seohyun90025</td>\n      <td>[請益] 進中山lab  vs  等成大備取</td>\n      <td>2/28</td>\n    </tr>\n    <tr>\n      <th>4</th>\n      <td>-</td>\n      <td>(本文已被刪除) [aa6dd7]</td>\n      <td>2/28</td>\n    </tr>\n    <tr>\n      <th>5</th>\n      <td>jordan860831</td>\n      <td>[請益] 交大運管找教授</td>\n      <td>2/28</td>\n    </tr>\n    <tr>\n      <th>6</th>\n      <td>abc88662a</td>\n      <td>[請益] 救救交大資電亥客所備取生（發錢）</td>\n      <td>2/28</td>\n    </tr>\n    <tr>\n      <th>7</th>\n      <td>zxcdewsaq</td>\n      <td>[請益] 資管計算機概論</td>\n      <td>2/28</td>\n    </tr>\n    <tr>\n      <th>8</th>\n      <td>-</td>\n      <td>(本文已被刪除) [Rycbar123]</td>\n      <td>2/28</td>\n    </tr>\n    <tr>\n      <th>9</th>\n      <td>zoanana990</td>\n      <td>[請益] 成大機械戊組找教授</td>\n      <td>2/28</td>\n    </tr>\n    <tr>\n      <th>10</th>\n      <td>hope2801</td>\n      <td>[請益] 中山電機控制組</td>\n      <td>2/28</td>\n    </tr>\n    <tr>\n      <th>11</th>\n      <td>f5zw2908</td>\n      <td>[請益] 中山電機丙有能2年畢業的教授</td>\n      <td>2/28</td>\n    </tr>\n    <tr>\n      <th>12</th>\n      <td>shiba0926</td>\n      <td>[請益]找教授 中山電波 &amp; 中正電磁晶片</td>\n      <td>2/28</td>\n    </tr>\n    <tr>\n      <th>13</th>\n      <td>a1zz3</td>\n      <td>[請益] 中興人工智慧學程，找教授請益</td>\n      <td>2/28</td>\n    </tr>\n    <tr>\n      <th>14</th>\n      <td>dicetictak</td>\n      <td>[請益] 師大通知面試了嗎?</td>\n      <td>2/28</td>\n    </tr>\n    <tr>\n      <th>15</th>\n      <td>Matz</td>\n      <td>[請益] 同校不同實驗室的出路會有明顯差異嗎?</td>\n      <td>2/29</td>\n    </tr>\n    <tr>\n      <th>16</th>\n      <td>veriaw</td>\n      <td>[請益] 王鈺強老師的面試</td>\n      <td>2/29</td>\n    </tr>\n    <tr>\n      <th>17</th>\n      <td>asd78970</td>\n      <td>[請益] 中央機械 先進材料 備取</td>\n      <td>2/29</td>\n    </tr>\n    <tr>\n      <th>18</th>\n      <td>shinle14</td>\n      <td>[請益] 中央資工VS成大電機己（原電通甲）</td>\n      <td>2/29</td>\n    </tr>\n    <tr>\n      <th>19</th>\n      <td>tenjow</td>\n      <td>[版規] Graduate版版規+問卷文規範</td>\n      <td>4/20</td>\n    </tr>\n    <tr>\n      <th>20</th>\n      <td>tenjow</td>\n      <td>[專區] 學術文獻交流分享專區(文獻徵求請利用此)</td>\n      <td>2/13</td>\n    </tr>\n    <tr>\n      <th>21</th>\n      <td>tenjow</td>\n      <td>[專區] 考古題解答徵求交換專區</td>\n      <td>2/13</td>\n    </tr>\n    <tr>\n      <th>22</th>\n      <td>tenjow</td>\n      <td>[專區] 買賣書暨[計算機]徵求置底專區</td>\n      <td>10/01</td>\n    </tr>\n    <tr>\n      <th>23</th>\n      <td>tenjow</td>\n      <td>[公告] 關於【補習班】相關文</td>\n      <td>6/23</td>\n    </tr>\n  </tbody>\n</table>\n</div>",
      "text/plain": "          author                      title   date\n0        clm6688              [請益] 成大會研備取問題   2/28\n1           csom      [請益] 代PO_中興資工教授推薦(在職)   2/28\n2        zzz4414       [閒聊] 遇過lab有哪些奇葩的收人方式   2/28\n3   seohyun90025     [請益] 進中山lab  vs  等成大備取   2/28\n4              -          (本文已被刪除) [aa6dd7]   2/28\n5   jordan860831               [請益] 交大運管找教授   2/28\n6      abc88662a      [請益] 救救交大資電亥客所備取生（發錢）   2/28\n7      zxcdewsaq               [請益] 資管計算機概論   2/28\n8              -       (本文已被刪除) [Rycbar123]   2/28\n9     zoanana990             [請益] 成大機械戊組找教授   2/28\n10      hope2801               [請益] 中山電機控制組   2/28\n11      f5zw2908        [請益] 中山電機丙有能2年畢業的教授   2/28\n12     shiba0926      [請益]找教授 中山電波 & 中正電磁晶片   2/28\n13         a1zz3        [請益] 中興人工智慧學程，找教授請益   2/28\n14    dicetictak             [請益] 師大通知面試了嗎?   2/28\n15          Matz    [請益] 同校不同實驗室的出路會有明顯差異嗎?   2/29\n16        veriaw              [請益] 王鈺強老師的面試   2/29\n17      asd78970          [請益] 中央機械 先進材料 備取   2/29\n18      shinle14     [請益] 中央資工VS成大電機己（原電通甲）   2/29\n19        tenjow     [版規] Graduate版版規+問卷文規範   4/20\n20        tenjow  [專區] 學術文獻交流分享專區(文獻徵求請利用此)   2/13\n21        tenjow           [專區] 考古題解答徵求交換專區   2/13\n22        tenjow       [專區] 買賣書暨[計算機]徵求置底專區  10/01\n23        tenjow            [公告] 關於【補習班】相關文   6/23"
     },
     "execution_count": 66,
     "metadata": {},
     "output_type": "execute_result"
    }
   ],
   "source": [
    "import requests\n",
    "from bs4 import BeautifulSoup\n",
    "import pandas as pd\n",
    "import re\n",
    "url='https://www.ptt.cc/bbs/graduate'\n",
    "r=requests.get(url)\n",
    "soup=BeautifulSoup(r.text,'html.parser')\n",
    "news_list=[]\n",
    "for d in soup.find_all(class_='r-ent'):\n",
    "    b=d.find_all(class_='title')[0].text\n",
    "    a=[d.find_all(class_='author')[0].text,b.replace('\\t','').strip(),d.find_all(class_='date')[0].text]\n",
    "    news_list.append(a)\n",
    "news_list=pd.DataFrame(news_list)\n",
    "news_list.columns=['author','title','date']\n",
    "news_list"
   ]
  },
  {
   "cell_type": "code",
   "execution_count": 45,
   "metadata": {},
   "outputs": [],
   "source": [
    "import re"
   ]
  },
  {
   "cell_type": "code",
   "execution_count": null,
   "metadata": {},
   "outputs": [],
   "source": []
  }
 ],
 "metadata": {
  "kernelspec": {
   "display_name": "Python 3",
   "language": "python",
   "name": "python3"
  },
  "language_info": {
   "codemirror_mode": {
    "name": "ipython",
    "version": 3
   },
   "file_extension": ".py",
   "mimetype": "text/x-python",
   "name": "python",
   "nbconvert_exporter": "python",
   "pygments_lexer": "ipython3",
   "version": "3.7.4-final"
  }
 },
 "nbformat": 4,
 "nbformat_minor": 2
}