{
 "cells": [
  {
   "cell_type": "markdown",
   "metadata": {},
   "source": [
    "# YAHOO電影爬蟲練習\n",
    "## 練習爬取電影放映資訊。必須逐步獲取電影的代號、放映地區、放映日期後，再送出查詢給伺服器。"
   ]
  },
  {
   "cell_type": "code",
   "execution_count": 1,
   "metadata": {},
   "outputs": [],
   "source": [
    "import requests\n",
    "import re\n",
    "from bs4 import BeautifulSoup"
   ]
  },
  {
   "cell_type": "markdown",
   "metadata": {},
   "source": [
    "### 先搜尋全部的電影代號(ID)資訊"
   ]
  },
  {
   "cell_type": "code",
   "execution_count": 2,
   "metadata": {},
   "outputs": [
    {
     "name": "stdout",
     "output_type": "stream",
     "text": "Movie: 寄生上流：黑白版, ID: 10527\nMovie: 千日千夜, ID: 10490\nMovie: 咒怨2 電影版, ID: 10464\nMovie: 鳴鳥不飛：烏雲密布, ID: 10458\nMovie: 哥布林殺手 劇場版, ID: 10438\nMovie: 女鬼橋, ID: 10437\nMovie: 怨咒, ID: 10421\nMovie: 娘娘腔日記, ID: 10401\nMovie: 汪星人的奇幻漂流, ID: 10388\nMovie: 極地守護犬, ID: 10383\nMovie: 叔．叔, ID: 10371\nMovie: 隱形人, ID: 10359\nMovie: 失路人, ID: 10498\nMovie: 電影音效傳奇：好萊塢之聲, ID: 10484\nMovie: 悲慘世界, ID: 10479\nMovie: 吹哨奇案, ID: 10475\nMovie: 閃閃小超人電影版, ID: 10474\nMovie: 少年阿罕默德, ID: 10468\nMovie: 咒怨 電影版, ID: 10463\nMovie: 陰櫥, ID: 10457\nMovie: 絕命大平台, ID: 10447\nMovie: 李察朱威爾事件, ID: 10368\nMovie: 音速小子, ID: 9246\nMovie: 逃出夢幻島, ID: 10485\nMovie: 雨天．紐約, ID: 10476\nMovie: 殺不了的他與死不了的她, ID: 10467\nMovie: 失控少年兵團, ID: 10456\nMovie: 超＂人＂氣動物園, ID: 10445\nMovie: 就愛斷捨離, ID: 10436\nMovie: 謎夜拼圖, ID: 10418\nMovie: 愛情人形, ID: 10394\nMovie: 蜜蜂與遠雷, ID: 10419\nMovie: 古曼童, ID: 10399\nMovie: 猛禽小隊：小丑女大解放, ID: 10268\nMovie: 熱帶雨, ID: 10448\nMovie: 紅鞋公主與七矮人, ID: 10417\nMovie: 黑水風暴, ID: 10398\nMovie: 1917, ID: 10189\nMovie: 你的情歌, ID: 10407\nMovie: 紳士追殺令, ID: 10317\nMovie: 杜立德, ID: 10316\nMovie: 她們, ID: 10202\nMovie: 變身特務, ID: 9008\nMovie: 青春催落去, ID: 10404\nMovie: 絕地戰警FOR LIFE, ID: 10242\nMovie: 星星知我心, ID: 10409\nMovie: 逃出天堂島, ID: 10384\nMovie: 魯邦三世 The First, ID: 10355\nMovie: 菠蘿蜜, ID: 10412\nMovie: 別告訴她, ID: 10382\nMovie: 真愛裁會贏, ID: 10362\nMovie: 兔嘲男孩, ID: 10283\nMovie: 舞力決戰, ID: 10344\nMovie: 潛艦追緝, ID: 10333\nMovie: 霹靂嬌娃, ID: 10124\nMovie: 怨靈古堡, ID: 10356\nMovie: 茱蒂, ID: 10112\nMovie: 燃燒女子的畫像, ID: 10069\nMovie: STAR WARS : 天行者的崛起, ID: 10225\nMovie: 復仇母親, ID: 10392\nMovie: 黑計畫, ID: 10351\nMovie: 8級警戒, ID: 10323\nMovie: 黑色聖誕節, ID: 10291\nMovie: 大說謊家, ID: 10122\nMovie: 人間失格：太宰治與他的3個女人, ID: 10287\nMovie: 去年聖誕節, ID: 10256\nMovie: 野蠻遊戲：全面晉級, ID: 10134\nMovie: 寂寞診療室, ID: 10282\nMovie: 布魯克林孤兒, ID: 10224\nMovie: 賽道狂人, ID: 10097\nMovie: 82年生的金智英, ID: 10298\nMovie: 冰雪奇緣2, ID: 9597\nMovie: 萬萬沒想到, ID: 10281\nMovie: 救火奶爸, ID: 10164\nMovie: 決戰中途島, ID: 10130\nMovie: 魔鬼終結者：黑暗宿命, ID: 10067\nMovie: 絕鯊47：猛鯊出籠, ID: 10214\nMovie: 陪你很久很久, ID: 10160\nMovie: 天氣之子, ID: 10091\nMovie: 亂世佳人, ID: 10170\nMovie: 寄生上流, ID: 10020\nMovie: 亂, ID: 7149\nMovie: 一首搖滾上月球, ID: 4887\nMovie: 錢不夠用2, ID: 3026\n"
    }
   ],
   "source": [
    "# 查看目前上映那些電影，並擷取出其ID資訊\n",
    "url = 'https://movies.yahoo.com.tw/'\n",
    "resp = requests.get(url)\n",
    "resp.encoding = 'utf-8'\n",
    "\n",
    "soup = BeautifulSoup(resp.text, 'lxml')\n",
    "html = soup.find(\"select\", attrs={'name':'movie_id'})\n",
    "movie_item = html.find_all(\"option\", attrs={'data-name':re.compile('.*')})\n",
    "for p in movie_item:\n",
    "    print(\"Movie: %s, ID: %s\" % (p[\"data-name\"], p[\"value\"]))"
   ]
  },
  {
   "cell_type": "markdown",
   "metadata": {},
   "source": [
    "### 指定你有興趣的電影其ID，然後查詢其放映地區資訊。"
   ]
  },
  {
   "cell_type": "code",
   "execution_count": 3,
   "metadata": {},
   "outputs": [
    {
     "data": {
      "text/plain": "'10527'"
     },
     "execution_count": 3,
     "metadata": {},
     "output_type": "execute_result"
    }
   ],
   "source": [
    "# 參考前一個步驟中擷取到的ID資訊，並指定ID\n",
    "movie_id = movie_item[0]['value']\n",
    "movie_id"
   ]
  },
  {
   "cell_type": "code",
   "execution_count": 14,
   "metadata": {},
   "outputs": [
    {
     "name": "stdout",
     "output_type": "stream",
     "text": "放映地區: 台北市, 代號(area_id): 28\n放映地區: 新北市, 代號(area_id): 8\n放映地區: 桃園, 代號(area_id): 16\n放映地區: 新竹, 代號(area_id): 20\n放映地區: 台中, 代號(area_id): 2\n放映地區: 台南, 代號(area_id): 10\n放映地區: 高雄, 代號(area_id): 17\n"
    }
   ],
   "source": [
    "url = 'https://movies.yahoo.com.tw/api/v1/areas_by_movie_theater'+'?movie_id='+str(movie_id)\n",
    "payload = {'movie_id':str(movie_id)}\n",
    "# 模擬一個header\n",
    "headers = {\n",
    "    'authority': 'movies.yahoo.com.tw',\n",
    "    'method': 'GET',\n",
    "    'path': '/api/v1/areas_by_movie_theater?movie_id=' + str(movie_id),\n",
    "    'scheme': 'https',\n",
    "    'accept': 'application/json, text/javascript, */*; q=0.01',\n",
    "    'accept-encoding': 'gzip, deflate, br',\n",
    "    'accept-language': 'zh-TW,zh;q=0.9,en-US;q=0.8,en;q=0.7,zh-CN;q=0.6',\n",
    "    'cookie': 'rxx=9s3x2fws06.1g16irnc&v=1; _ga=GA1.3.2056742944.1551651301; GUC=AQEBAQFczFpdm0IfmwSB&s=AQAAACoo4N5D&g=XMsVBw; BX=4hkdk1decm57t&b=3&s=mr; _ga=GA1.4.2056742944.1551651301; nexagesuid=82843256dd234e8e91aa73f2062f8218; browsed_movie=eyJpdiI6IlJXWWtiSWJaZlNGK2MxQnhscnVUYWc9PSIsInZhbHVlIjoiMXRhMmVHRXRIeUNjc1RBWDJzdGYwbnlIQURmWGsrcjJSMzhkbkcraDNJVUNIZEZsbzU3amlFcVZ1NzlmazJrTGpoMjVrbHk1YmpoRENXaHZTOUw1TmI2ZTZVWHdOejZQZm16RmVuMWlHTTJLaTZLVFZZVkFOMDlTd1wvSGltcytJIiwibWFjIjoiZWQ2ZjA4MmVjZmZlYjlmNjJmYmY2NGMyMDI0Njc0NWViYjVkOWE2NDg0N2RhODMxZjBjZDhiMmJhZTc2MDZhYiJ9; avi=eyJpdiI6Im1NeWFJRlVRWDR1endEcGRGUGJUbVE9PSIsInZhbHVlIjoickRpU3JuUytmcGl6cjF5OW0rNU9iZz09IiwibWFjIjoiY2VmY2NkNzZmM2NhNjY5YzlkOTcyNjE5OGEyMzU0NWYxOTdmMDRkMDY3OWNmMmZjOTMxYjc5MjI5N2Q5NGE5MiJ9; cmp=t=1559391030&j=0; _gid=GA1.4.779543841.1559391031; XSRF-TOKEN=eyJpdiI6IkhpS2hGcDRQaHlmWUJmaHdSS2Q2bHc9PSIsInZhbHVlIjoiOUVoNFk4OHI1UUZmUWRtYXhza0MyWjJSTlhlZ3RnT0VGeVJPN2JuczVRMGRFdWt2OUlsamVKeHRobFwvcHBGM0dhU3VyMXNGTHlsb2dVM2l0U1hpUGxBPT0iLCJtYWMiOiJkZWU4YzJhNjAxMTY3MzE4Y2ExNWIxYmE1ZjE1YWZlZTlhOTcyYjc4M2RlZGY4ZWNjZDYyMTA2NGYwZGViMzc2In0%3D; m_s=eyJpdiI6InpsZHZ2Tk1BZ0dxaHhETml1RjBnUXc9PSIsInZhbHVlIjoiSkNGeHUranRoXC85bDFiaDhySTJqNkJRcWdjWUxjeVRJSHVYZ1wvd2d4bWJZUTUrSHVDM0lUcW5KNHdETFZ4T1lieU81OUhzc1VoUXhZcWk0UDZSQXVFdz09IiwibWFjIjoiYmJkMDJkMDhlODIzMzcyMWY4M2NmYWNjNGVlOWRjMDIwZmVmNzAyMjE3Yzg3ZGY3ODBkZWEzZTI4MTI5ZWNmOSJ9; _gat=1; nexagesd=10',\n",
    "    'dnt': '1',\n",
    "    'mv-authorization': '21835b082e15b91a69b3851eec7b31b82ce82afb',\n",
    "    'referer': 'https://movies.yahoo.com.tw/',\n",
    "    'user-agent': 'Mozilla/5.0 (Windows NT 10.0; Win64; x64) AppleWebKit/537.36 (KHTML, like Gecko) Chrome/74.0.3729.169 Safari/537.36',\n",
    "    'x-requested-with': 'XMLHttpRequest',\n",
    "}\n",
    "resp = requests.get(url, params=payload, headers=headers)\n",
    "#print(resp.json())  # 若有需要，列印出json原始碼\n",
    "\n",
    "# 這裡回傳的格式是JSON格式的資料，要解析JSON擷取資料\n",
    "for p in resp.json():\n",
    "    print('放映地區: {0}, 代號(area_id): {1}'.format(p['title'], p['area_id']))"
   ]
  },
  {
   "cell_type": "markdown",
   "metadata": {},
   "source": [
    "### 指定你想要觀看的放映地區，查詢有上映電影的場次日期"
   ]
  },
  {
   "cell_type": "code",
   "execution_count": 4,
   "metadata": {},
   "outputs": [],
   "source": [
    "# 指定放映地區\n",
    "area_id = 28"
   ]
  },
  {
   "cell_type": "code",
   "execution_count": 5,
   "metadata": {},
   "outputs": [
    {
     "name": "stdout",
     "output_type": "stream",
     "text": "發送請求的網站: https://movies.yahoo.com.tw/movietime_result.html?movie_id=10527&area_id=28\n2020-02-29\n2020-03-01\n2020-03-02\n2020-03-03\n2020-03-04\n"
    }
   ],
   "source": [
    "# 向網站發送請求\n",
    "url = 'https://movies.yahoo.com.tw/movietime_result.html'+'?movie_id='+str(movie_id)+'&area_id='+str(area_id)\n",
    "print('發送請求的網站:',url)\n",
    "payload = {'movie_id':str(movie_id), 'area_id':str(area_id)}\n",
    "resp = requests.get(url, params=payload)\n",
    "resp.encoding = 'utf-8'\n",
    "\n",
    "soup = BeautifulSoup(resp.text, 'lxml')\n",
    "# # 列印播放日期\n",
    "movie_date=[]\n",
    "for p in soup.find_all('input',class_=\"calendar_checked jq_calendar_checked gabtn\"):\n",
    "    print(p['value'])\n",
    "    movie_date.append(p['value'])"
   ]
  },
  {
   "cell_type": "markdown",
   "metadata": {},
   "source": [
    "### 最後指定觀看的日期，查詢並列印出放映的電影院、放映類型(數位、3D、IMAX 3D...)、放映時間等資訊。"
   ]
  },
  {
   "cell_type": "code",
   "execution_count": 6,
   "metadata": {},
   "outputs": [
    {
     "data": {
      "text/plain": "'2020-03-01'"
     },
     "execution_count": 6,
     "metadata": {},
     "output_type": "execute_result"
    }
   ],
   "source": [
    "# 選定要觀看的日期\n",
    "date = movie_date[1]\n",
    "date"
   ]
  },
  {
   "cell_type": "code",
   "execution_count": 7,
   "metadata": {},
   "outputs": [
    {
     "name": "stdout",
     "output_type": "stream",
     "text": "發送請求的網站: https://movies.yahoo.com.tw/ajax/pc/get_schedule_by_movie?movie_id=10527&area_id=28&date=2020-03-01\n"
    }
   ],
   "source": [
    "# 向網站發送請求，獲取上映的電影院及時間資訊\n",
    "url = \"https://movies.yahoo.com.tw/ajax/pc/get_schedule_by_movie\"+'?movie_id='+str(movie_id)+'&area_id='+str(area_id)+'&date='+date\n",
    "print('發送請求的網站:',url)\n",
    "payload = {'movie_id':str(movie_id),\n",
    "           'date':date,\n",
    "           'area_id':str(area_id),\n",
    "           'theater_id':'',\n",
    "           'datetime':'',\n",
    "           'movie_type_id':''}\n",
    "\n",
    "resp = requests.get(url, params=payload)\n",
    "#print(resp.json()['view'])  # 若有需要，列印出json原始碼\n",
    "\n",
    "soup = BeautifulSoup(resp.json()['view'], 'lxml')\n",
    "html = soup.find_all(\"ul\", attrs={'data-theater_name':re.compile(\".*\")})\n"
   ]
  },
  {
   "cell_type": "code",
   "execution_count": 8,
   "metadata": {},
   "outputs": [
    {
     "name": "stdout",
     "output_type": "stream",
     "text": "電影院: <a href=\"https://movies.yahoo.com.tw/theater_result.html/id=41\">台北真善美劇院</a>\n放映類型: 數位\n\n\n15:00\n\n電影院: <a href=\"https://movies.yahoo.com.tw/theater_result.html/id=45\">台北信義威秀影城</a>\n放映類型: 數位\n\n\n14:40\n\n20:40\n\n電影院: <a href=\"https://movies.yahoo.com.tw/theater_result.html/id=118\">京站威秀影城</a>\n放映類型: 數位\n\n\n13:05\n\n20:20\n\n電影院: <a href=\"https://movies.yahoo.com.tw/theater_result.html/id=186\">喜樂時代影城南港店</a>\n放映類型: 數位\n\n\n14:00\n\n19:00\n\n電影院: <a href=\"https://movies.yahoo.com.tw/theater_result.html/id=254\">MUVIE CINEMAS台北松仁威秀</a>\n放映類型: 數位\n\n\n17:20\n\n"
    }
   ],
   "source": [
    "\n",
    "for p in html:\n",
    "  print('電影院:',p.find('a'))\n",
    "  print('放映類型:',p.find('span',class_=\"tapR\").text)\n",
    "  print(p.find('div',class_='input_picker jq_input_picker').text)\n",
    "\n"
   ]
  },
  {
   "cell_type": "code",
   "execution_count": null,
   "metadata": {},
   "outputs": [],
   "source": []
  }
 ],
 "metadata": {
  "kernelspec": {
   "display_name": "Python 3",
   "language": "python",
   "name": "python3"
  },
  "language_info": {
   "codemirror_mode": {
    "name": "ipython",
    "version": 3
   },
   "file_extension": ".py",
   "mimetype": "text/x-python",
   "name": "python",
   "nbconvert_exporter": "python",
   "pygments_lexer": "ipython3",
   "version": "3.7.4-final"
  }
 },
 "nbformat": 4,
 "nbformat_minor": 2
}