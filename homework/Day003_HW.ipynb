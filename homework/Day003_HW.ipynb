{
 "cells": [
  {
   "cell_type": "markdown",
   "metadata": {},
   "source": [
    "# Python 下載XML檔案與解析\n",
    "\n",
    "\n",
    "* 了解 xml 檔案格式與內容\n",
    "* 能夠利用套件存取 xml 格式的檔案\n"
   ]
  },
  {
   "cell_type": "markdown",
   "metadata": {},
   "source": [
    "## 作業目標\n",
    "\n",
    "* 比較一下範例檔案中的「File I/O」與「xmltodict」讀出來的內容有什麼差異\n",
    "\n",
    "* 根據範例檔案的結果：\n",
    "    1. 請問高雄市有多少地區有溫度資料？\n",
    "    2. 請取出每一個地區所記錄的第一個時間點跟溫度\n",
    "    3. 請取出第一個地區所記錄的每一個時間點跟溫度"
   ]
  },
  {
   "cell_type": "markdown",
   "metadata": {},
   "source": [
    "### 比較一下範例檔案中的「File I/O」與「xmltodict」讀出來的內容有什麼差異\n"
   ]
  },
  {
   "cell_type": "code",
   "execution_count": 2,
   "metadata": {},
   "outputs": [
    {
     "name": "stdout",
     "output_type": "stream",
     "text": "08:00'), ('elementValue', [OrderedDict([('value', '2'), ('measures', '公尺/秒')]), OrderedDict([('value', '<= 1'), ('measures', '蒲福風級')])])]), OrderedDict([('dataTime', '2019-07-01T00:00:00+08:00'), ('elementValue', [OrderedDict([('value', '2'), ('measures', '公尺/秒')]), OrderedDict([('value', '<= 1'), ('measures', '蒲福風級')])])]), OrderedDict([('dataTime', '2019-07-01T03:00:00+08:00'), ('elementValue', [OrderedDict([('value', '2'), ('measures', '公尺/秒')]), OrderedDict([('value', '<= 1'), ('measures', '蒲福風級')])])]), OrderedDict([('dataTime', '2019-07-01T06:00:00+08:00'), ('elementValue', [OrderedDict([('value', '2'), ('measures', '公尺/秒')]), OrderedDict([('value', '<= 1'), ('measures', '蒲福風級')])])]), OrderedDict([('dataTime', '2019-07-01T09:00:00+08:00'), ('elementValue', [OrderedDict([('value', '1'), ('measures', '公尺/秒')]), OrderedDict([('value', '<= 1'), ('measures', '蒲福風級')])])])])]), OrderedDict([('elementName', 'CI'), ('description', '舒適度指數'), ('time', [OrderedDict([('dataTime', '2019-06-28T12:00:00+08:00'), ('elementValue', [OrderedDict([('value', '28'), ('measures', 'NA')]), OrderedDict([('value', '悶熱'), ('measures', '自定義 CI 文字')])])]), OrderedDict([('dataTime', '2019-06-28T15:00:00+08:00'), ('elementValue', [OrderedDict([('value', '27'), ('measures', 'NA')]), OrderedDict([('value', '悶熱'), ('measures', '自定義 CI 文字')])])]), OrderedDict([('dataTime', '2019-06-28T18:00:00+08:00'), ('elementValue', [OrderedDict([('value', '24'), ('measures', 'NA')]), OrderedDict([('value', '舒適'), ('measures', '自定義 CI 文字')])])]), OrderedDict([('dataTime', '2019-06-28T21:00:00+08:00'), ('elementValue', [OrderedDict([('value', '22'), ('measures', 'NA')]), OrderedDict([('value', '舒適'), ('measures', '自定義 CI 文字')])])]), OrderedDict([('dataTime', '2019-06-29T00:00:00+08:00'), ('elementValue', [OrderedDict([('value', '21'), ('measures', 'NA')]), OrderedDict([('value', '舒適'), ('measures', '自定義 CI 文字')])])]), OrderedDict([('dataTime', '2019-06-29T03:00:00+08:00'), ('elementValue', [OrderedDict([('value', '21'), ('measures', 'NA')]), OrderedDict([('value', '舒適'), ('measures', '自定義 CI 文字')])])]), OrderedDict([('dataTime', '2019-06-29T06:00:00+08:00'), ('elementValue', [OrderedDict([('value', '20'), ('measures', 'NA')]), OrderedDict([('value', '舒適'), ('measures', '自定義 CI 文字')])])]), OrderedDict([('dataTime', '2019-06-29T09:00:00+08:00'), ('elementValue', [OrderedDict([('value', '25'), ('measures', 'NA')]), OrderedDict([('value', '舒適'), ('measures', '自定義 CI 文字')])])]), OrderedDict([('dataTime', '2019-06-29T12:00:00+08:00'), ('elementValue', [OrderedDict([('value', '27'), ('measures', 'NA')]), OrderedDict([('value', '悶熱'), ('measures', '自定義 CI 文字')])])]), OrderedDict([('dataTime', '2019-06-29T15:00:00+08:00'), ('elementValue', [OrderedDict([('value', '26'), ('measures', 'NA')]), OrderedDict([('value', '舒適'), ('measures', '自定義 CI 文字')])])]), OrderedDict([('dataTime', '2019-06-29T18:00:00+08:00'), ('elementValue', [OrderedDict([('value', '23'), ('measures', 'NA')]), OrderedDict([('value', '舒適'), ('measures', '自定義 CI 文字')])])]), OrderedDict([('dataTime', '2019-06-29T21:00:00+08:00'), ('elementValue', [OrderedDict([('value', '22'), ('measures', 'NA')]), OrderedDict([('value', '舒適'), ('measures', '自定義 CI 文字')])])]), OrderedDict([('dataTime', '2019-06-30T00:00:00+08:00'), ('elementValue', [OrderedDict([('value', '21'), ('measures', 'NA')]), OrderedDict([('value', '舒適'), ('measures', '自定義 CI 文字')])])]), OrderedDict([('dataTime', '2019-06-30T03:00:00+08:00'), ('elementValue', [OrderedDict([('value', '21'), ('measures', 'NA')]), OrderedDict([('value', '舒適'), ('measures', '自定義 CI 文字')])])]), OrderedDict([('dataTime', '2019-06-30T06:00:00+08:00'), ('elementValue', [OrderedDict([('value', '20'), ('measures', 'NA')]), OrderedDict([('value', '舒適'), ('measures', '自定義 CI 文字')])])]), OrderedDict([('dataTime', '2019-06-30T09:00:00+08:00'), ('elementValue', [OrderedDict([('value', '25'), ('measures', 'NA')]), OrderedDict([('value', '舒適'), ('measures', '自定義 CI 文字')])])]), OrderedDict([('dataTime', '2019-06-30T12:00:00+08:00'), ('elementValue', [OrderedDict([('value', '27'), ('measures', 'NA')]), OrderedDict([('value', '悶熱'), ('measures', '自定義 CI 文字')])])]), OrderedDict([('dataTime', '2019-06-30T15:00:00+08:00'), ('elementValue', [OrderedDict([('value', '26'), ('measures', 'NA')]), OrderedDict([('value', '舒適'), ('measures', '自定義 CI 文字')])])]), OrderedDict([('dataTime', '2019-06-30T18:00:00+08:00'), ('elementValue', [OrderedDict([('value', '23'), ('measures', 'NA')]), OrderedDict([('value', '舒適'), ('measures', '自定義 CI 文字')])])]), OrderedDict([('dataTime', '2019-06-30T21:00:00+08:00'), ('elementValue', [OrderedDict([('value', '22'), ('measures', 'NA')]), OrderedDict([('value', '舒適'), ('measures', '自定義 CI 文字')])])]), OrderedDict([('dataTime', '2019-07-01T00:00:00+08:00'), ('elementValue', [OrderedDict([('value', '21'), ('measures', 'NA')]), OrderedDict([('value', '舒適'), ('measures', '自定義 CI 文字')])])]), OrderedDict([('dataTime', '2019-07-01T03:00:00+08:00'), ('elementValue', [OrderedDict([('value', '21'), ('measures', 'NA')]), OrderedDict([('value', '舒適'), ('measures', '自定義 CI 文字')])])]), OrderedDict([('dataTime', '2019-07-01T06:00:00+08:00'), ('elementValue', [OrderedDict([('value', '21'), ('measures', 'NA')]), OrderedDict([('value', '舒適'), ('measures', '自定義 CI 文字')])])]), OrderedDict([('dataTime', '2019-07-01T09:00:00+08:00'), ('elementValue', [OrderedDict([('value', '25'), ('measures', 'NA')]), OrderedDict([('value', '舒適'), ('measures', '自定義 CI 文字')])])])])]), OrderedDict([('elementName', 'AT'), ('description', '體感溫度'), ('time', [OrderedDict([('dataTime', '2019-06-28T12:00:00+08:00'), ('elementValue', OrderedDict([('value', '34'), ('measures', '攝氏度')]))]), OrderedDict([('dataTime', '2019-06-28T15:00:00+08:00'), ('elementValue', OrderedDict([('value', '32'), ('measures', '攝氏度')]))]), OrderedDict([('dataTime', '2019-06-28T18:00:00+08:00'), ('elementValue', OrderedDict([('value', '28'), ('measures', '攝氏度')]))]), OrderedDict([('dataTime', '2019-06-28T21:00:00+08:00'), ('elementValue', OrderedDict([('value', '25'), ('measures', '攝氏度')]))]), OrderedDict([('dataTime', '2019-06-29T00:00:00+08:00'), ('elementValue', OrderedDict([('value', '24'), ('measures', '攝氏度')]))]), OrderedDict([('dataTime', '2019-06-29T03:00:00+08:00'), ('elementValue', OrderedDict([('value', '22'), ('measures', '攝氏度')]))]), OrderedDict([('dataTime', '2019-06-29T06:00:00+08:00'), ('elementValue', OrderedDict([('value', '22'), ('measures', '攝氏度')]))]), OrderedDict([('dataTime', '2019-06-29T09:00:00+08:00'), ('elementValue', OrderedDict([('value', '29'), ('measures', '攝氏度')]))]), OrderedDict([('dataTime', '2019-06-29T12:00:00+08:00'), ('elementValue', OrderedDict([('value', '32'), ('measures', '攝氏度')]))]), OrderedDict([('dataTime', '2019-06-29T15:00:00+08:00'), ('elementValue', OrderedDict([('value', '30'), ('measures', '攝氏度')]))]), OrderedDict([('dataTime', '2019-06-29T18:00:00+08:00'), ('elementValue', OrderedDict([('value', '26'), ('measures', '攝氏度')]))]), OrderedDict([('dataTime', '2019-06-29T21:00:00+08:00'), ('elementValue', OrderedDict([('value', '25'), ('measures', '攝氏度')]))]), OrderedDict([('dataTime', '2019-06-30T00:00:00+08:00'), ('elementValue', OrderedDict([('value', '24'), ('measures', '攝氏度')]))]), OrderedDict([('dataTime', '2019-06-30T03:00:00+08:00'), ('elementValue', OrderedDict([('value', '23'), ('measures', '攝氏度')]))]), OrderedDict([('dataTime', '2019-06-30T06:00:00+08:00'), ('elementValue', OrderedDict([('value', '23'), ('measures', '攝氏度')]))]), OrderedDict([('dataTime', '2019-06-30T09:00:00+08:00'), ('elementValue', OrderedDict([('value', '29'), ('measures', '攝氏度')]))]), OrderedDict([('dataTime', '2019-06-30T12:00:00+08:00'), ('elementValue', OrderedDict([('value', '32'), ('measures', '攝氏度')]))]), OrderedDict([('dataTime', '2019-06-30T15:00:00+08:00'), ('elementValue', OrderedDict([('value', '30'), ('measures', '攝氏度')]))]), OrderedDict([('dataTime', '2019-06-30T18:00:00+08:00'), ('elementValue', OrderedDict([('value', '26'), ('measures', '攝氏度')]))]), OrderedDict([('dataTime', '2019-06-30T21:00:00+08:00'), ('elementValue', OrderedDict([('value', '25'), ('measures', '攝氏度')]))]), OrderedDict([('dataTime', '2019-07-01T00:00:00+08:00'), ('elementValue', OrderedDict([('value', '24'), ('measures', '攝氏度')]))]), OrderedDict([('dataTime', '2019-07-01T03:00:00+08:00'), ('elementValue', OrderedDict([('value', '23'), ('measures', '攝氏度')]))]), OrderedDict([('dataTime', '2019-07-01T06:00:00+08:00'), ('elementValue', OrderedDict([('value', '23'), ('measures', '攝氏度')]))]), OrderedDict([('dataTime', '2019-07-01T09:00:00+08:00'), ('elementValue', OrderedDict([('value', '29'), ('measures', '攝氏度')]))])])]), OrderedDict([('elementName', 'Wx'), ('description', '天氣現象'), ('time', [OrderedDict([('startTime', '2019-06-28T12:00:00+08:00'), ('endTime', '2019-06-28T15:00:00+08:00'), ('elementValue', [OrderedDict([('value', '午後短暫雷陣雨'), ('measures', '自定義 Wx 文字')]), OrderedDict([('value', '15'), ('measures', '自定義 Wx 單位')])])]), OrderedDict([('startTime', '2019-06-28T15:00:00+08:00'), ('endTime', '2019-06-28T18:00:00+08:00'), ('elementValue', [OrderedDict([('value', '午後短暫雷陣雨'), ('measures', '自定義 Wx 文字')]), OrderedDict([('value', '15'), ('measures', '自定義 Wx 單位')])])]), OrderedDict([('startTime', '2019-06-28T18:00:00+08:00'), ('endTime', '2019-06-28T21:00:00+08:00'), ('elementValue', [OrderedDict([('value', '晴'), ('measures', '自定義 Wx 文字')]), OrderedDict([('value', '01'), ('measures', '自定義 Wx 單位')])])]), OrderedDict([('startTime', '2019-06-28T21:00:00+08:00'), ('endTime', '2019-06-29T00:00:00+08:00'), ('elementValue', [OrderedDict([('value', '晴'), ('measures', '自定義 Wx 文字')]), OrderedDict([('value', '01'), ('measures', '自定義 Wx 單位')])])]), OrderedDict([('startTime', '2019-06-29T00:00:00+08:00'), ('endTime', '2019-06-29T03:00:00+08:00'), ('elementValue', [OrderedDict([('value', '多雲'), ('measures', '自定義 Wx 文字')]), OrderedDict([('value', '04'), ('measures', '自定義 Wx 單位')])])]), OrderedDict([('startTime', '2019-06-29T03:00:00+08:00'), ('endTime', '2019-06-29T06:00:00+08:00'), ('elementValue', [OrderedDict([('value', '陰'), ('measures', '自定義 Wx 文字')]), OrderedDict([('value', '07'), ('measures', '自定義 Wx 單位')])])]), OrderedDict([('startTime', '2019-06-29T06:00:00+08:00'), ('endTime', '2019-06-29T09:00:00+08:00'), ('elementValue', [OrderedDict([('value', '晴'), ('measures', '自定義 Wx 文字')]), OrderedDict([('value', '01'), ('measures', '自定義 Wx 單位')])])]), OrderedDict([('startTime', '2019-06-29T09:00:00+08:00'), ('endTime', '2019-06-29T12:00:00+08:00'), ('elementValue', [OrderedDict([('value', '短暫陣雨或雷雨'), ('measures', '自定義 Wx 文字')]), OrderedDict([('value', '15'), ('measures', '自定義 Wx 單位')])])]), OrderedDict([('startTime', '2019-06-29T12:00:00+08:00'), ('endTime', '2019-06-29T15:00:00+08:00'), ('elementValue', [OrderedDict([('value', '午後短暫雷陣雨'), ('measures', '自定義 Wx 文字')]), OrderedDict([('value', '15'), ('measures', '自定義 Wx 單位')])])]), OrderedDict([('startTime', '2019-06-29T15:00:00+08:00'), ('endTime', '2019-06-29T18:00:00+08:00'), ('elementValue', [OrderedDict([('value', '午後短暫雷陣雨'), ('measures', '自定義 Wx 文字')]), OrderedDict([('value', '15'), ('measures', '自定義 Wx 單位')])])]), OrderedDict([('startTime', '2019-06-29T18:00:00+08:00'), ('endTime', '2019-06-29T21:00:00+08:00'), ('elementValue', [OrderedDict([('value', '多雲'), ('measures', '自定義 Wx 文字')]), OrderedDict([('value', '04'), ('measures', '自定義 Wx 單位')])])]), OrderedDict([('startTime', '2019-06-29T21:00:00+08:00'), ('endTime', '2019-06-30T00:00:00+08:00'), ('elementValue', [OrderedDict([('value', '多雲'), ('measures', '自定義 Wx 文字')]), OrderedDict([('value', '04'), ('measures', '自定義 Wx 單位')])])]), OrderedDict([('startTime', '2019-06-30T00:00:00+08:00'), ('endTime', '2019-06-30T03:00:00+08:00'), ('elementValue', [OrderedDict([('value', '多雲'), ('measures', '自定義 Wx 文字')]), OrderedDict([('value', '04'), ('measures', '自定義 Wx 單位')])])]), OrderedDict([('startTime', '2019-06-30T03:00:00+08:00'), ('endTime', '2019-06-30T06:00:00+08:00'), ('elementValue', [OrderedDict([('value', '陰'), ('measures', '自定義 Wx 文字')]), OrderedDict([('value', '07'), ('measures', '自定義 Wx 單位')])])]), OrderedDict([('startTime', '2019-06-30T06:00:00+08:00'), ('endTime', '2019-06-30T09:00:00+08:00'), ('elementValue', [OrderedDict([('value', '多雲'), ('measures', '自定義 Wx 文字')]), OrderedDict([('value', '04'), ('measures', '自定義 Wx 單位')])])]), OrderedDict([('startTime', '2019-06-30T09:00:00+08:00'), ('endTime', '2019-06-30T12:00:00+08:00'), ('elementValue', [OrderedDict([('value', '多雲'), ('measures', '自定義 Wx 文字')]), OrderedDict([('value', '04'), ('measures', '自定義 Wx 單位')])])]), OrderedDict([('startTime', '2019-06-30T12:00:00+08:00'), ('endTime', '2019-06-30T15:00:00+08:00'), ('elementValue', [OrderedDict([('value', '午後短暫雷陣雨'), ('measures', '自定義 Wx 文字')]), OrderedDict([('value', '15'), ('measures', '自定義 Wx 單位')])])]), OrderedDict([('startTime', '2019-06-30T15:00:00+08:00'), ('endTime', '2019-06-30T18:00:00+08:00'), ('elementValue', [OrderedDict([('value', '午後短暫雷陣雨'), ('measures', '自定義 Wx 文字')]), OrderedDict([('value', '15'), ('measures', '自定義 Wx 單位')])])]), OrderedDict([('startTime', '2019-06-30T18:00:00+08:00'), ('endTime', '2019-06-30T21:00:00+08:00'), ('elementValue', [OrderedDict([('value', '短暫陣雨或雷雨'), ('measures', '自定義 Wx 文字')]), OrderedDict([('value', '15'), ('measures', '自定義 Wx 單位')])])]), OrderedDict([('startTime', '2019-06-30T21:00:00+08:00'), ('endTime', '2019-07-01T00:00:00+08:00'), ('elementValue', [OrderedDict([('value', '多雲'), ('measures', '自定義 Wx 文字')]), OrderedDict([('value', '04'), ('measures', '自定義 Wx 單位')])])]), OrderedDict([('startTime', '2019-07-01T00:00:00+08:00'), ('endTime', '2019-07-01T03:00:00+08:00'), ('elementValue', [OrderedDict([('value', '多雲'), ('measures', '自定義 Wx 文字')]), OrderedDict([('value', '04'), ('measures', '自定義 Wx 單位')])])]), OrderedDict([('startTime', '2019-07-01T03:00:00+08:00'), ('endTime', '2019-07-01T06:00:00+08:00'), ('elementValue', [OrderedDict([('value', '短暫陣雨或雷雨'), ('measures', '自定義 Wx 文字')]), OrderedDict([('value', '15'), ('measures', '自定義 Wx 單位')])])]), OrderedDict([('startTime', '2019-07-01T06:00:00+08:00'), ('endTime', '2019-07-01T09:00:00+08:00'), ('elementValue', [OrderedDict([('value', '短暫陣雨或雷雨'), ('measures', '自定義 Wx 文字')]), OrderedDict([('value', '15'), ('measures', '自定義 Wx 單位')])])]), OrderedDict([('startTime', '2019-07-01T09:00:00+08:00'), ('endTime', '2019-07-01T12:00:00+08:00'), ('elementValue', [OrderedDict([('value', '短暫陣雨或雷雨'), ('measures', '自定義 Wx 文字')]), OrderedDict([('value', '15'), ('measures', '自定義 Wx 單位')])])])])]), OrderedDict([('elementName', 'WeatherDescription'), ('description', '天氣預報綜合描述'), ('time', [OrderedDict([('startTime', '2019-06-28T12:00:00+08:00'), ('endTime', '2019-06-28T15:00:00+08:00'), ('elementValue', OrderedDict([('value', '午後短暫雷陣雨。降雨機率 80%。溫度攝氏29度。悶熱。西南風 平均風速<= 1級(每秒1公尺)。相對濕度84%。'), ('measures', 'NA')]))]), OrderedDict([('startTime', '2019-06-28T15:00:00+08:00'), ('endTime', '2019-06-28T18:00:00+08:00'), ('elementValue', OrderedDict([('value', '午後短暫雷陣雨。降雨機率 80%。溫度攝氏28度。悶熱。偏南風 平均風速<= 1級(每秒1公尺)。相對濕度91%。'), ('measures', 'NA')]))]), OrderedDict([('startTime', '2019-06-28T18:00:00+08:00'), ('endTime', '2019-06-28T21:00:00+08:00'), ('elementValue', OrderedDict([('value', '晴。降雨機率 10%。溫度攝氏24度。舒適。東南風 平均風速<= 1級(每秒1公尺)。相對濕度95%。'), ('measures', 'NA')]))]), OrderedDict([('startTime', '2019-06-28T21:00:00+08:00'), ('endTime', '2019-06-29T00:00:00+08:00'), ('elementValue', OrderedDict([('value', '晴。降雨機率 10%。溫度攝氏22度。舒適。偏南風 平均風速<= 1級(每秒1公尺)。相對濕度99%。'), ('measures', 'NA')]))]), OrderedDict([('startTime', '2019-06-29T00:00:00+08:00'), ('endTime', '2019-06-29T03:00:00+08:00'), ('elementValue', OrderedDict([('value', '多雲。降雨機率 10%。溫度攝氏21度。舒適。東南風 平均風速1-2級(每秒2公尺)。相對濕度96%。'), ('measures', 'NA')]))]), OrderedDict([('startTime', '2019-06-29T03:00:00+08:00'), ('endTime', '2019-06-29T06:00:00+08:00'), ('elementValue', OrderedDict([('value', '陰。降雨機率 10%。溫度攝氏21度。舒適。偏東風 平均風速1-2級(每秒2公尺)。相對濕度96%。'), ('measures', 'NA')]))]), OrderedDict([('startTime', '2019-06-29T06:00:00+08:00'), ('endTime', '2019-06-29T09:00:00+08:00'), ('elementValue', OrderedDict([('value', '晴。降雨機率 50%。溫度攝氏21度。舒適。東南風 平均風速<= 1級(每秒2公尺)。相對濕度93%。'), ('measures', 'NA')]))]), OrderedDict([('startTime', '2019-06-29T09:00:00+08:00'), ('endTime', '2019-06-29T12:00:00+08:00'), ('elementValue', OrderedDict([('value', '短暫陣雨或雷雨。降雨機率 50%。溫度攝氏26度。舒適。西南風 平均風速<= 1級(每秒2公尺)。相對濕度91%。'), ('measures', 'NA')]))]), OrderedDict([('startTime', '2019-06-29T12:00:00+08:00'), ('endTime', '2019-06-29T15:00:00+08:00'), ('elementValue', OrderedDict([('value', '午後短暫雷陣雨。降雨機率 90%。溫度攝氏28度。悶熱。偏南風 平均風速<= 1級(每秒1公尺)。相對濕度91%。'), ('measures', 'NA')]))]), OrderedDict([('startTime', '2019-06-29T15:00:00+08:00'), ('endTime', '2019-06-29T18:00:00+08:00'), ('elementValue', OrderedDict([('value', '午後短暫雷陣雨。降雨機率 90%。溫度攝氏26度。舒適。偏南風 平均風速<= 1級(每秒1公尺)。相對濕度90%。'), ('measures', 'NA')]))]), OrderedDict([('startTime', '2019-06-29T18:00:00+08:00'), ('endTime', '2019-06-29T21:00:00+08:00'), ('elementValue', OrderedDict([('value', '多雲。降雨機率 10%。溫度攝氏23度。舒適。偏南風 平均風速<= 1級(每秒1公尺)。相對濕度95%。'), ('measures', 'NA')]))]), OrderedDict([('startTime', '2019-06-29T21:00:00+08:00'), ('endTime', '2019-06-30T00:00:00+08:00'), ('elementValue', OrderedDict([('value', '多雲。降雨機率 10%。溫度攝氏22度。舒適。東南風 平均風速<= 1級(每秒0公尺)。相對濕度100%。'), ('measures', 'NA')]))]), OrderedDict([('startTime', '2019-06-30T00:00:00+08:00'), ('endTime', '2019-06-30T03:00:00+08:00'), ('elementValue', OrderedDict([('value', '多雲。降雨機率 10%。溫度攝氏21度。舒適。西南風 平均風速<= 1級(每秒1公尺)。相對濕度100%。'), ('measures', 'NA')]))]), OrderedDict([('startTime', '2019-06-30T03:00:00+08:00'), ('endTime', '2019-06-30T06:00:00+08:00'), ('elementValue', OrderedDict([('value', '陰。降雨機率 10%。溫度攝氏21度。舒適。西南風 平均風速<= 1級(每秒1公尺)。相對濕度97%。'), ('measures', 'NA')]))]), OrderedDict([('startTime', '2019-06-30T06:00:00+08:00'), ('endTime', '2019-06-30T09:00:00+08:00'), ('elementValue', OrderedDict([('value', '多雲。降雨機率 20%。溫度攝氏20度。舒適。西南風 平均風速<= 1級(每秒2公尺)。相對濕度96%。'), ('measures', 'NA')]))]), OrderedDict([('startTime', '2019-06-30T09:00:00+08:00'), ('endTime', '2019-06-30T12:00:00+08:00'), ('elementValue', OrderedDict([('value', '多雲。降雨機率 20%。溫度攝氏26度。舒適。西南風 平均風速<= 1級(每秒2公尺)。相對濕度94%。'), ('measures', 'NA')]))]), OrderedDict([('startTime', '2019-06-30T12:00:00+08:00'), ('endTime', '2019-06-30T15:00:00+08:00'), ('elementValue', OrderedDict([('value', '午後短暫雷陣雨。降雨機率 90%。溫度攝氏28度。悶熱。偏南風 平均風速<= 1級(每秒1公尺)。相對濕度91%。'), ('measures', 'NA')]))]), OrderedDict([('startTime', '2019-06-30T15:00:00+08:00'), ('endTime', '2019-06-30T18:00:00+08:00'), ('elementValue', OrderedDict([('value', '午後短暫雷陣雨。降雨機率 90%。溫度攝氏26度。舒適。西南風 平均風速<= 1級(每秒1公尺)。相對濕度92%。'), ('measures', 'NA')]))]), OrderedDict([('startTime', '2019-06-30T18:00:00+08:00'), ('endTime', '2019-06-30T21:00:00+08:00'), ('elementValue', OrderedDict([('value', '短暫陣雨或雷雨。降雨機率 30%。溫度攝氏24度。舒適。東南風 平均風速<= 1級(每秒1公尺)。相對濕度95%。'), ('measures', 'NA')]))]), OrderedDict([('startTime', '2019-06-30T21:00:00+08:00'), ('endTime', '2019-07-01T00:00:00+08:00'), ('elementValue', OrderedDict([('value', '多雲。降雨機率 30%。溫度攝氏22度。舒適。東南風 平均風速<= 1級(每秒2公尺)。相對濕度98%。'), ('measures', 'NA')]))]), OrderedDict([('startTime', '2019-07-01T00:00:00+08:00'), ('endTime', '2019-07-01T03:00:00+08:00'), ('elementValue', OrderedDict([('value', '多雲。降雨機率 30%。溫度攝氏21度。舒適。偏東風 平均風速<= 1級(每秒2公尺)。相對濕度99%。'), ('measures', 'NA')]))]), OrderedDict([('startTime', '2019-07-01T03:00:00+08:00'), ('endTime', '2019-07-01T06:00:00+08:00'), ('elementValue', OrderedDict([('value', '短暫陣雨或雷雨。降雨機率 30%。溫度攝氏21度。舒適。東北風 平均風速<= 1級(每秒2公尺)。相對濕度100%。'), ('measures', 'NA')]))]), OrderedDict([('startTime', '2019-07-01T06:00:00+08:00'), ('endTime', '2019-07-01T09:00:00+08:00'), ('elementValue', OrderedDict([('value', '短暫陣雨或雷雨。降雨機率 70%。溫度攝氏21度。舒適。西北風 平均風速<= 1級(每秒2公尺)。相對濕度99%。'), ('measures', 'NA')]))]), OrderedDict([('startTime', '2019-07-01T09:00:00+08:00'), ('endTime', '2019-07-01T12:00:00+08:00'), ('elementValue', OrderedDict([('value', '短暫陣雨或雷雨。降雨機率 70%。溫度攝氏25度。舒適。偏北風 平均風速<= 1級(每秒0公尺)。相對濕度97%。'), ('measures', 'NA')]))])])])])])])]))]))])}\n"
    }
   ],
   "source": [
    "\n",
    "import xmltodict\n",
    "#File I/O : 將文件資料全部讀出來\n",
    "with open('D:/1st-PyCrawlerMarathon/homework/Data/example_HW003/64_72hr_CH.xml','r',encoding='utf-8') as file:\n",
    "    xlm=file.read()\n",
    "    #print(xlm)\n",
    "    #xmltodict  將資料存進字典 \n",
    "    xlm2=dict(xmltodict.parse(xlm))\n",
    "    print(xlm2)\n"
   ]
  },
  {
   "cell_type": "markdown",
   "metadata": {},
   "source": [
    "### 根據範例檔案的結果：\n",
    "\n",
    "1. 請問高雄市有多少地區有溫度資料？\n",
    "2. 請取出每一個地區所記錄的第一個時間點跟溫度\n",
    "3. 請取出第一個地區所記錄的每一個時間點跟溫度"
   ]
  },
  {
   "cell_type": "code",
   "execution_count": 127,
   "metadata": {},
   "outputs": [
    {
     "name": "stdout",
     "output_type": "stream",
     "text": "高雄市\n['locationName', 'geocode', 'lat', 'lon', 'weatherElement']\n高雄市有 38 個地區有溫度資料\n鹽埕區\n鼓山區\n左營區\n楠梓區\n三民區\n新興區\n前金區\n苓雅區\n前鎮區\n旗津區\n小港區\n鳳山區\n林園區\n大寮區\n大樹區\n大社區\n仁武區\n鳥松區\n岡山區\n橋頭區\n燕巢區\n田寮區\n阿蓮區\n路竹區\n湖內區\n茄萣區\n永安區\n彌陀區\n梓官區\n旗山區\n美濃區\n六龜區\n甲仙區\n杉林區\n內門區\n茂林區\n桃源區\n那瑪夏區\n"
    }
   ],
   "source": [
    "# 1. 請問高雄市有多少地區有溫度資料？\n",
    "import xmltodict\n",
    "#File I/O : 將文件資料全部讀出來\n",
    "with open('D:/1st-PyCrawlerMarathon/homework/Data/example_HW003/64_72hr_CH.xml','r',encoding='utf-8') as file:\n",
    "    xml=file.read()\n",
    "    dic=dict(xmltodict.parse(xml))\n",
    "    print(dic['cwbopendata']['dataset']['locations']['locationsName'])\n",
    "    print(list(dic['cwbopendata']['dataset']['locations']['location'][0]))\n",
    "    kao=dic['cwbopendata']['dataset']['locations']['location']\n",
    "    print('高雄市有',len(kao),'個地區有溫度資料')\n",
    "    for k in kao:\n",
    "        if k['weatherElement']:\n",
    "            print(k['locationName'])\n"
   ]
  },
  {
   "cell_type": "code",
   "execution_count": 147,
   "metadata": {},
   "outputs": [
    {
     "name": "stdout",
     "output_type": "stream",
     "text": "['locationName', 'geocode', 'lat', 'lon', 'weatherElement']\n鹽埕區 2019-06-28T12:00:00+08:00 33 攝氏度\n鼓山區 2019-06-28T12:00:00+08:00 33 攝氏度\n左營區 2019-06-28T12:00:00+08:00 33 攝氏度\n楠梓區 2019-06-28T12:00:00+08:00 34 攝氏度\n三民區 2019-06-28T12:00:00+08:00 32 攝氏度\n新興區 2019-06-28T12:00:00+08:00 33 攝氏度\n前金區 2019-06-28T12:00:00+08:00 33 攝氏度\n苓雅區 2019-06-28T12:00:00+08:00 33 攝氏度\n前鎮區 2019-06-28T12:00:00+08:00 33 攝氏度\n旗津區 2019-06-28T12:00:00+08:00 32 攝氏度\n小港區 2019-06-28T12:00:00+08:00 33 攝氏度\n鳳山區 2019-06-28T12:00:00+08:00 34 攝氏度\n林園區 2019-06-28T12:00:00+08:00 33 攝氏度\n大寮區 2019-06-28T12:00:00+08:00 34 攝氏度\n大樹區 2019-06-28T12:00:00+08:00 34 攝氏度\n大社區 2019-06-28T12:00:00+08:00 34 攝氏度\n仁武區 2019-06-28T12:00:00+08:00 33 攝氏度\n鳥松區 2019-06-28T12:00:00+08:00 34 攝氏度\n岡山區 2019-06-28T12:00:00+08:00 34 攝氏度\n橋頭區 2019-06-28T12:00:00+08:00 35 攝氏度\n燕巢區 2019-06-28T12:00:00+08:00 34 攝氏度\n田寮區 2019-06-28T12:00:00+08:00 34 攝氏度\n阿蓮區 2019-06-28T12:00:00+08:00 34 攝氏度\n路竹區 2019-06-28T12:00:00+08:00 33 攝氏度\n湖內區 2019-06-28T12:00:00+08:00 33 攝氏度\n茄萣區 2019-06-28T12:00:00+08:00 33 攝氏度\n永安區 2019-06-28T12:00:00+08:00 32 攝氏度\n彌陀區 2019-06-28T12:00:00+08:00 32 攝氏度\n梓官區 2019-06-28T12:00:00+08:00 32 攝氏度\n旗山區 2019-06-28T12:00:00+08:00 34 攝氏度\n美濃區 2019-06-28T12:00:00+08:00 34 攝氏度\n六龜區 2019-06-28T12:00:00+08:00 34 攝氏度\n甲仙區 2019-06-28T12:00:00+08:00 33 攝氏度\n杉林區 2019-06-28T12:00:00+08:00 36 攝氏度\n內門區 2019-06-28T12:00:00+08:00 34 攝氏度\n茂林區 2019-06-28T12:00:00+08:00 34 攝氏度\n桃源區 2019-06-28T12:00:00+08:00 31 攝氏度\n那瑪夏區 2019-06-28T12:00:00+08:00 29 攝氏度\n"
    }
   ],
   "source": [
    "# 2. 請取出每一個地區所記錄的第一個時間點跟溫度\n",
    "import xmltodict\n",
    "#File I/O : 將文件資料全部讀出來\n",
    "with open('D:/1st-PyCrawlerMarathon/homework/Data/example_HW003/64_72hr_CH.xml','r',encoding='utf-8') as file:\n",
    "    xml=file.read()\n",
    "    dic=dict(xmltodict.parse(xml))\n",
    "    kao=dic['cwbopendata']['dataset']['locations']['location']\n",
    "    #print(list(kao[0]))\n",
    "    for k in kao:\n",
    "        if k['weatherElement']:\n",
    "            #print(list(k['weatherElement'][0]))\n",
    "            for item in k['weatherElement']:\n",
    "                if item['description']=='溫度':\n",
    "                    print(k['locationName'],item['time'][0]['dataTime'],item['time'][0]['elementValue']['value'],item['time'][0]['elementValue']['measures'])"
   ]
  },
  {
   "cell_type": "code",
   "execution_count": 176,
   "metadata": {},
   "outputs": [
    {
     "name": "stdout",
     "output_type": "stream",
     "text": "鹽埕區 2019-06-28T12:00:00+08:00 33 攝氏度\n鹽埕區 2019-06-28T15:00:00+08:00 33 攝氏度\n鹽埕區 2019-06-28T18:00:00+08:00 32 攝氏度\n鹽埕區 2019-06-28T21:00:00+08:00 30 攝氏度\n鹽埕區 2019-06-29T00:00:00+08:00 30 攝氏度\n鹽埕區 2019-06-29T03:00:00+08:00 29 攝氏度\n鹽埕區 2019-06-29T06:00:00+08:00 28 攝氏度\n鹽埕區 2019-06-29T09:00:00+08:00 31 攝氏度\n鹽埕區 2019-06-29T12:00:00+08:00 32 攝氏度\n鹽埕區 2019-06-29T15:00:00+08:00 32 攝氏度\n鹽埕區 2019-06-29T18:00:00+08:00 31 攝氏度\n鹽埕區 2019-06-29T21:00:00+08:00 30 攝氏度\n鹽埕區 2019-06-30T00:00:00+08:00 29 攝氏度\n鹽埕區 2019-06-30T03:00:00+08:00 28 攝氏度\n鹽埕區 2019-06-30T06:00:00+08:00 28 攝氏度\n鹽埕區 2019-06-30T09:00:00+08:00 31 攝氏度\n鹽埕區 2019-06-30T12:00:00+08:00 32 攝氏度\n鹽埕區 2019-06-30T15:00:00+08:00 32 攝氏度\n鹽埕區 2019-06-30T18:00:00+08:00 31 攝氏度\n鹽埕區 2019-06-30T21:00:00+08:00 30 攝氏度\n鹽埕區 2019-07-01T00:00:00+08:00 29 攝氏度\n鹽埕區 2019-07-01T03:00:00+08:00 29 攝氏度\n鹽埕區 2019-07-01T06:00:00+08:00 28 攝氏度\n鹽埕區 2019-07-01T09:00:00+08:00 31 攝氏度\n"
    }
   ],
   "source": [
    "# 3. 請取出第一個地區所記錄的每一個時間點跟溫度\n",
    "import xmltodict\n",
    "with open('D:/1st-PyCrawlerMarathon/homework/Data/example_HW003/64_72hr_CH.xml','r',encoding='utf-8') as file:\n",
    "    xml=file.read()\n",
    "    dic=dict(xmltodict.parse(xml))\n",
    "    kao=dic['cwbopendata']['dataset']['locations']['location'][0]\n",
    "    weather=kao['weatherElement'][0]['time']\n",
    "    #print(list(weather))\n",
    "    for item in weather:\n",
    "        #print(item)\n",
    "        print (kao['locationName'],item['dataTime'],item['elementValue']['value'],item['elementValue']['measures'])"
   ]
  },
  {
   "cell_type": "code",
   "execution_count": null,
   "metadata": {},
   "outputs": [],
   "source": []
  }
 ],
 "metadata": {
  "kernelspec": {
   "display_name": "Python 3",
   "language": "python",
   "name": "python3"
  },
  "language_info": {
   "codemirror_mode": {
    "name": "ipython",
    "version": 3
   },
   "file_extension": ".py",
   "mimetype": "text/x-python",
   "name": "python",
   "nbconvert_exporter": "python",
   "pygments_lexer": "ipython3",
   "version": "3.7.4"
  }
 },
 "nbformat": 4,
 "nbformat_minor": 2
}