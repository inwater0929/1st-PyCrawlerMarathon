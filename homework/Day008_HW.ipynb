{
 "cells": [
  {
   "cell_type": "markdown",
   "metadata": {},
   "source": [
    "# 靜態網頁的資料爬蟲策略\n",
    "\n",
    "\n",
    "* 了解靜態網頁的資料爬蟲策略\n",
    "* 認識適用於靜態網頁爬蟲的相關套件工具：Request\n",
    "* 認識適用於靜態網頁爬蟲的相關套件工具：BeatifulSoup"
   ]
  },
  {
   "cell_type": "markdown",
   "metadata": {},
   "source": [
    "## 作業目標\n",
    "\n",
    "利用 Request + BeatifulSoup 爬取下列兩個網站內容並解析：\n",
    "\n",
    "1. Dcared 網址： https://www.dcard.tw/f\n",
    "2. 知乎： https://www.zhihu.com/explore\n",
    "\n",
    "並且回答下面問題：\n",
    "\n",
    "1. Request 取回之後該怎麼取出資料，資料型態是什麼？\n",
    "2. 為什麼要使用 BeatifulSoup 處理？處理後的型態是什麼？\n",
    "3. 觀察一下知乎回來的資料好像有點怪怪的，該怎麼解決？"
   ]
  },
  {
   "cell_type": "markdown",
   "metadata": {},
   "source": [
    "### 1. Dcard 網址： https://www.dcard.tw/f"
   ]
  },
  {
   "cell_type": "code",
   "execution_count": 7,
   "metadata": {},
   "outputs": [
    {
     "name": "stdout",
     "output_type": "stream",
     "text": "\n  <!DOCTYPE html>\n  <html lang=\"zh-tw\">\n    <head>\n      <meta charset=\"UTF-8\">\n      <meta name=\"viewport\" content=\"width=device-width, initial-scale=1, maximum-scale=1\">\n      <meta http-equiv=\"X-UA-Compatible\" content=\"ie=edge\">\n      <meta name=\"theme-color\" content=\"#006aa6\">\n      <meta data-react-helmet=\"true\" property=\"og:type\" content=\"website\"/><meta data-react-helmet=\"true\" property=\"og:site_name\" content=\"Dcard\"/><meta data-react-helmet=\"true\" property=\"og:title\" content=\"全部  | Dcard\"/><meta data-react-helmet=\"true\" property=\"og:url\" content=\"https://www.dcard.tw/f\"/><meta data-react-helmet=\"true\" name=\"twitter:title\" content=\"全部 | Dcard\"/><meta data-react-helmet=\"true\" property=\"al:ios:url\" content=\"dcard://category/all/全部/hot\"/><meta data-react-helmet=\"true\" property=\"al:android:url\" content=\"dcard://category/all/全部/hot\"/>\n      <title data-react-helmet=\"true\">全部 | Dcard</title>\n      <link data-react-helmet=\"true\" rel=\"canonical\" href=\"https://www.dcard.tw/f\"/>\n      <link rel=\"manifest\" href=\"/build//manifest.json\">\n      <link rel='icon' sizes='32x32' type='image/png' href=\"/build//images/favicon_32.png\"/>\n      <link rel='icon' sizes='72x72' type='image/png' href=\"/build//images/favicon_72.png\"/>\n      <link rel='icon' sizes='512x512' type='image/png' href=\"/build//images/favicon_512.png\"/>\n\n      <link rel='apple-touch-icon-precomposed' size='144x144' href=\"/build//images/favicon_144.png\"/>\n      <link rel='apple-touch-icon-precomposed' size='114x114' href=\"/build//images/favicon_114.png\"/>\n      <link rel='apple-touch-icon-precomposed' size='72x72' href=\"/build//images/favicon_72.png\"/>\n      <link rel='apple-touch-icon-precomposed' href=\"/build//images/favicon_57.png\"/>\n\n      \n<script>\n(function(e,t){var n=e.amplitude||{_q:[],_iq:{}};var r=t.createElement(\"script\")\n;r.type=\"text/javascript\";r.async=true\n;r.src=\"https://cdn.amplitude.com/libs/amplitude-4.4.0-min.gz.js\"\n;r.onload=function(){if(e.amplitude.runQueuedFunctions){\ne.amplitude.runQueuedFunctions()}else{\nconsole.log(\"[Amplitude] Error: could not load SDK\")}}\n;var i=t.getElementsByTagName(\"script\")[0];i.parentNode.insertBefore(r,i)\n;function s(e,t){e.prototype[t]=function(){\nthis._q.push([t].concat(Array.prototype.slice.call(arguments,0)));return this}}\nvar o=function(){this._q=[];return this}\n;var a=[\"add\",\"append\",\"clearAll\",\"prepend\",\"set\",\"setOnce\",\"unset\"]\n;for(var u=0;u<a.length;u++){s(o,a[u])}n.Identify=o;var c=function(){this._q=[]\n;return this}\n;var l=[\"setProductId\",\"setQuantity\",\"setPrice\",\"setRevenueType\",\"setEventProperties\"]\n;for(var p=0;p<l.length;p++){s(c,l[p])}n.Revenue=c\n;var d=[\"init\",\"logEvent\",\"logRevenue\",\"setUserId\",\"setUserProperties\",\"setOptOut\",\"setVersionName\",\"setDomain\",\"setDeviceId\",\"setGlobalUserProperties\",\"identify\",\"clearUserProperties\",\"setGroup\",\"logRevenueV2\",\"regenerateDeviceId\",\"logEventWithTimestamp\",\"logEventWithGroups\",\"setSessionId\",\"resetSessionId\"]\n;function v(e){function t(t){e[t]=function(){\ne._q.push([t].concat(Array.pr\n"
    }
   ],
   "source": [
    "import requests\n",
    "from bs4 import BeautifulSoup\n",
    "url = 'https://www.dcard.tw/f'\n",
    "r = requests.get(url)\n",
    "r.encoding = 'utf-8'\n",
    "print(r.text[0:3000])"
   ]
  },
  {
   "cell_type": "code",
   "execution_count": 10,
   "metadata": {},
   "outputs": [
    {
     "name": "stdout",
     "output_type": "stream",
     "text": "Request 取回之後該怎麼取出資料，資料型態是什麼？ =>\n<class 'str'>\n"
    }
   ],
   "source": [
    "print('Request 取回之後該怎麼取出資料，資料型態是什麼？ =>')\n",
    "response = r.text\n",
    "print(type(response))"
   ]
  },
  {
   "cell_type": "code",
   "execution_count": 12,
   "metadata": {},
   "outputs": [
    {
     "name": "stdout",
     "output_type": "stream",
     "text": "idth\":180,\"height\":320}},\"uploadedAt\":\"2019-12-28T15:21:40.125Z\"},\"likeCount\":1169,\"viewCount\":3052,\"createdAt\":\"2019-12-28T15:21:59.728Z\",\"updatedAt\":\"2019-12-29T06:59:21.047Z\",\"forumName\":\"寵物\",\"forumAlias\":\"pet\",\"score\":1.99999999660841,\"featured\":true,\"position\":0.999999996608406,\"gender\":\"F\",\"school\":\"嶺東科技大學\",\"read\":false,\"postAvatar\":\"\",\"duration\":5.865,\"mediaHeight\":1280,\"mediaWidth\":720,\"previewHeight\":320,\"previewWidth\":180,\"previewUrl\":\"https:\\u002F\\u002Fmegapx-assets.dcard.tw\\u002Fvideos\\u002Fa1e70a20-82cb-4f04-b9df-27ec2e6f0216\\u002Fpreview.mp4\"},\"a6420ee3-2a9f-4544-a344-d583e5c0aeee\":{\"id\":\"a6420ee3-2a9f-4544-a344-d583e5c0aeee\",\"mediaUrl\":\"https:\\u002F\\u002Fgcs.dcard.tw\\u002Fstory\\u002Fimages\\u002Fee8f14df-8cbe-4373-a50a-97855e6c7491.jpg\",\"mediaType\":\"image\",\"mediaData\":null,\"likeCount\":567,\"viewCount\":1927,\"createdAt\":\"2019-12-28T16:23:51.316Z\",\"updatedAt\":\"2019-12-29T07:00:19.529Z\",\"forumName\":\"寵物\",\"forumAlias\":\"pet\",\"score\":1.99992201837195,\"featured\":true,\"position\":0.999922018371945,\"gender\":\"F\",\"school\":\"中國文化大學\",\"read\":false,\"postAvatar\":\"\",\"duration\":5,\"previewUrl\":\"https:\\u002F\\u002Fgcs.dcard.tw\\u002Fstory\\u002Fimages\\u002Fee8f14df-8cbe-4373-a50a-97855e6c7491.jpg\"},\"d63fdb5e-5b8f-4c3d-9daf-fda4d804a9b0\":{\"id\":\"d63fdb5e-5b8f-4c3d-9daf-fda4d804a9b0\",\"mediaUrl\":\"https:\\u002F\\u002Fgcs.dcard.tw\\u002Fstory\\u002Fimages\\u002Fd4224c29-e8e5-4269-b3b6-068a4d84ec78.jpg\",\"mediaType\":\"image\",\"mediaData\":null,\"likeCount\":549,\"viewCount\":1881,\"createdAt\":\"2019-12-28T16:23:13.589Z\",\"updatedAt\":\"2019-12-29T07:00:47.390Z\",\"forumName\":\"寵物\",\"forumAlias\":\"pet\",\"score\":1.99989470560809,\"featured\":true,\"position\":0.999894705608091,\"gender\":\"F\",\"school\":\"中國文化大學\",\"read\":false,\"postAvatar\":\"\",\"duration\":5,\"previewUrl\":\"https:\\u002F\\u002Fgcs.dcard.tw\\u002Fstory\\u002Fimages\\u002Fd4224c29-e8e5-4269-b3b6-068a4d84ec78.jpg\"},\"3a205ba8-97d5-43b5-a998-1e271e5ad3ee\":{\"id\":\"3a205ba8-97d5-43b5-a998-1e271e5ad3ee\",\"mediaUrl\":\"https:\\u002F\\u002Fgcs.dcard.tw\\u002Fstory\\u002Fimages\\u002F8eb5432f-acf2-45bb-850e-ef949ce8cf0b.jpg\",\"mediaType\":\"image\",\"mediaData\":null,\"likeCount\":200,\"viewCount\":1260,\"createdAt\":\"2019-12-29T04:25:06.863Z\",\"updatedAt\":\"2019-12-29T11:19:17.614Z\",\"forumName\":\"美食\",\"forumAlias\":\"food\",\"score\":1.99960997259949,\"featured\":true,\"position\":0.999609972599486,\"gender\":\"F\",\"school\":\"朝陽科技大學\",\"read\":false,\"postAvatar\":\"\",\"duration\":5,\"previewUrl\":\"https:\\u002F\\u002Fgcs.dcard.tw\\u002Fstory\\u002Fimages\\u002F8eb5432f-acf2-45bb-850e-ef949ce8cf0b.jpg\"},\"c5b672a7-f425-4530-84f5-e2fa349b49a9\":{\"id\":\"c5b672a7-f425-4530-84f5-e2fa349b49a9\",\"mediaUrl\":\"https:\\u002F\\u002Fmegapx-assets.dcard.tw\\u002Fvideos\\u002F9812fe6e-6788-4aad-8246-fdd09020ee32\\u002Fmaster.m3u8\",\"mediaType\":\"megapx\\u002Fvideo\",\"mediaData\":{\"id\":\"9812fe6e-6788-4aad-8246-fdd09020ee32\",\"url\":\"https:\\u002F\\u002Fmegapx-assets.dcard.tw\\u002Fvideos\\u002F9812fe6e-6788-4aad-8246-fdd09020ee32\\u002Forig\",\"name\":\"92829E59-0176-4F22-A9AE-A37F404E69EE-video.mp4\",\"size\":29608555,\"type\":\"video\\u002Fmp4\",\"width\":1080,\"height\":1920,\"hlsUrl\":\"https:\\u002F\\u002Fmegapx-assets.dcard.tw\\u002Fvideos\\u002F9812fe6e-6788-4aad-8246-fdd09020ee32\\u002Fmaster.m3u8\",\"status\":\"SUCCEED\",\"dashUrl\":\"https:\\u002F\\u002Fmegapx-assets.dcard.tw\\u002Fvideos\\u002F9812fe6e-6788-4aad-8246-fdd09020ee32\\u002Foutput.mpd\",\"duration\":15.511667,\"frameRate\":29.97002997002997,\"thumbnails\":{\"preview\":{\"url\":\"https:\\u002F\\u002Fmegapx-assets.dcard.tw\\u002Fvideos\\u002F9812fe6e-6788-4aad-8246-fdd09020ee32\\u002Fpreview.mp4\",\"size\":12608,\"type\":\"video\\u002Fmp4\",\"width\":180,\"height\":320}},\"uploadedAt\":\"2019-12-28T16:52:30.358Z\"},\"likeCount\":416,\"viewCount\":906,\"createdAt\":\"2019-12-28T16:58:54.251Z\",\"updatedAt\":\"2019-12-29T11:22:23.306Z\",\"forumName\":\"寵物\",\"forumAlias\":\"pet\",\"score\":1.99903169542063,\"featured\":true,\"position\":0.999031695420625,\"gender\":\"F\",\"school\":\"國立臺中教育大學\",\"read\":false,\"postAvatar\":\"\",\"duration\":15.511667,\"mediaHeight\":1920,\"mediaWidth\":1080,\"previewHeight\":320,\"previewWidth\":180,\"previewUrl\":\"https:\\u002F\\u002Fmegapx-assets.dcard.tw\\u002Fvideos\\u002F9812fe6e-6788-4aad-8246-fdd09020ee32\\u002Fpreview.mp4\"},\"ea0a0775-2a26-4066-a7ad-55153657330d\":{\"id\":\"ea0a0775-2a26-4066-a7ad-55153657330d\",\"mediaUrl\":\"https:\\u002F\\u002Fgcs.dcard.tw\\u002Fstory\\u002Fimages\\u002F36ce2e60-46e8-4513-a039-3e133188dc27.jpg\",\"mediaType\":\"image\",\"mediaData\":null,\"likeCount\":321,\"viewCount\":794,\"createdAt\":\"2019-12-28T18:16:29.497Z\",\"updatedAt\":\"2019-12-29T11:23:32.680Z\",\"forumName\":\"寵物\",\"forumAlias\":\"pet\",\"score\":1.99527608017768,\"featured\":true,\"position\":0.995276080177677,\"gender\":\"F\",\"school\":\"中華醫事科技大學\",\"read\":false,\"postAvatar\":\"\",\"duration\":5,\"previewUrl\":\"https:\\u002F\\u002Fgcs.dcard.tw\\u002Fstory\\u002Fimages\\u002F36ce2e60-46e8-4513-a039-3e133188dc27.jpg\"},\"a094f5e8-bc00-43b8-8c97-dd3063c3e27d\":{\"id\":\"a094f5e8-bc00-43b8-8c97-dd3063c3e27d\",\"mediaUrl\":\"https:\\u002F\\u002Fgcs.dcard.tw\\u002Fstory\\u002Fimages\\u002F8444aa89-df63-4423-b367-7c74b03a7ae8.jpg\",\"mediaType\":\"image\",\"mediaData\":null,\"likeCount\":290,\"viewCount\":811,\"createdAt\":\"2019-12-28T17:01:09.097Z\",\"updatedAt\":\"2019-12-29T11:23:13.337Z\",\"forumName\":\"寵物\",\"forumAlias\":\"pet\",\"score\":1.99207676410416,\"featured\":true,\"position\":0.992076764104155,\"gender\":\"F\",\"school\":\"馬偕醫護管理專科學校\",\"read\":false,\"postAvatar\":\"\",\"duration\":5,\"previewUrl\":\"https:\\u002F\\u002Fgcs.dcard.tw\\u002Fstory\\u002Fimages\\u002F8444aa89-df63-4423-b367-7c74b03a7ae8.jpg\"},\"1abc0be1-7302-43c8-b2e8-13190c694b95\":{\"id\":\"1abc0be1-7302-43c8-b2e8-13190c694b95\",\"mediaUrl\":\"https:\\u002F\\u002Fgcs.dcard.tw\\u002Fstory\\u002Fimages\\u002F9b057529-add1-4ac8-a284-29a6deef3bee.jpg\",\"mediaType\":\"image\",\"mediaData\":null,\"likeCount\":214,\"viewCount\":531,\"createdAt\":\"2019-12-29T08:16:13.132Z\",\"updatedAt\":\"2019-12-29T11:24:22.013Z\",\"forumName\":\"寵物\",\"forumAlias\":\"pet\",\"score\":1.97184633025085,\"featured\":true,\"position\":0.971846330250849,\"gender\":\"F\",\"school\":\"國立高雄師範大學\",\"read\":false,\"postAvatar\":\"\",\"duration\":5,\"previewUrl\":\"https:\\u002F\\u002Fgcs.dcard.tw\\u002Fstory\\u002Fimages\\u002F9b057529-add1-4ac8-a284-29a6deef3bee.jpg\"},\"20c04ec3-ade6-4ab8-88c7-2da6e66c9bb7\":{\"id\":\"20c04ec3-ade6-4ab8-88c7-2da6e66c9bb7\",\"mediaUrl\":\"https:\\u002F\\u002Fmegapx-assets.dcard.tw\\u002Fvideos\\u002F6440271a-4550-4850-96ed-bfbc1853419b\\u002Fmaster.m3u8\",\"mediaType\":\"megapx\\u002Fvideo\",\"mediaData\":{\"id\":\"6440271a-4550-4850-96ed-bfbc1853419b\",\"url\":\"https:\\u002F\\u002Fmegapx-assets.dcard.tw\\u002Fvideos\\u002F6440271a-4550-4850-96ed-bfbc1853419b\\u002Forig\",\"name\":\"CA45C105-767E-4C0E-A32D-85694557B750-video.mp4\",\"size\":16643661,\"type\":\"video\\u002Fmp4\",\"width\":1280,\"height\":2276,\"hlsUrl\":\"https:\\u002F\\u002Fmegapx-assets.dcard.tw\\u002Fvideos\\u002F6440271a-4550-4850-96ed-bfbc1853419b\\u002Fmaster.m3u8\",\"status\":\"SUCCEED\",\"dashUrl\":\"https:\\u002F\\u002Fmegapx-assets.dcard.tw\\u002Fvideos\\u002F6440271a-4550-4850-96ed-bfbc1853419b\\u002Foutput.mpd\",\"duration\":14.276667,\"frameRate\":29.97002997002997,\"thumbnails\":{\"preview\":{\"url\":\"https:\\u002F\\u002Fmegapx-assets.dcard.tw\\u002Fvideos\\u002F6440271a-4550-4850-96ed-bfbc1853419b\\u002Fpreview.mp4\",\"size\":4376,\"type\":\"video\\u002Fmp4\",\"width\":180,\"height\":320}},\"uploadedAt\":\"2019-12-29T04:36:27.111Z\"},\"likeCount\":209,\"viewCount\":756,\"createdAt\":\"2019-12-29T04:37:15.504Z\",\"updatedAt\":\"2019-12-29T11:21:47.447Z\",\"forumName\":\"寵物\",\"forumAlias\":\"pet\",\"score\":1.96939722358104,\"featured\":true,\"position\":0.96939722358104,\"gender\":\"F\",\"school\":\"僑光科技大學\",\"read\":false,\"postAvatar\":\"\",\"duration\":14.276667,\"mediaHeight\":2276,\"mediaWidth\":1280,\"previewHeight\":320,\"previewWidth\":180,\"previewUrl\":\"https:\\u002F\\u002Fmegapx-assets.dcard.tw\\u002Fvideos\\u002F6440271a-4550-4850-96ed-bfbc1853419b\\u002Fpreview.mp4\"},\"d7bb2d81-d0d5-4f97-82ff-4f057eb9c8e4\":{\"id\":\"d7bb2d81-d0d5-4f97-82ff-4f057eb9c8e4\",\"mediaUrl\":\"https:\\u002F\\u002Fgcs.dcard.tw\\u002Fstory\\u002Fimages\\u002Ffb757398-e2c0-4b5a-94e2-d6b802e33c1b.jpg\",\"mediaType\":\"image\",\"mediaData\":null,\"likeCount\":182,\"viewCount\":626,\"createdAt\":\"2019-12-28T16:47:34.899Z\",\"updatedAt\":\"2019-12-29T11:24:06.790Z\",\"forumName\":\"寵物\",\"forumAlias\":\"pet\",\"score\":1.95198463398679,\"featured\":true,\"position\":0.951984633986793,\"gender\":\"F\",\"school\":\"實踐大學\",\"read\":false,\"postAvatar\":\"\",\"duration\":5,\"previewUrl\":\"https:\\u002F\\u002Fgcs.dcard.tw\\u002Fstory\\u002Fimages\\u002Ffb757398-e2c0-4b5a-94e2-d6b802e33c1b.jpg\"},\"4678ffc7-6548-4ece-a98d-8058b590d3dd\":{\"id\":\"4678ffc7-6548-4ece-a98d-8058b590d3dd\",\"mediaUrl\":\"https:\\u002F\\u002Fmegapx-assets.dcard.tw\\u002Fvideos\\u002F8c06124e-59f1-4b14-a6b3-10aaeb77aca3\\u002Fmaster.m3u8\",\"mediaType\":\"megapx\\u002Fvideo\",\"mediaData\":{\"id\":\"8c06124e-59f1-4b14-a6b3-10aaeb77aca3\",\"url\":\"https:\\u002F\\u002Fmegapx-assets.dcard.tw\\u002Fvideos\\u002F8c06124e-59f1-4b14-a6b3-10aaeb77aca3\\u002Forig\",\"name\":\"20191229_003430.mp4\",\"size\":1380233,\"type\":\"video\\u002Fmp4\",\"width\":720,\"height\":1396,\"hlsUrl\":\"https:\\u002F\\u002Fmegapx-assets.dcard.tw\\u002Fvideos\\u002F8c06124e-59f1-4b14-a6b3-10aaeb77aca3\\u002Fmaster.m3u8\",\"status\":\"SUCCEED\",\"dashUrl\":\"https:\\u002F\\u002Fmegapx-assets.dcard.tw\\u002Fvideos\\u002F8c06124e-59f1-4b14-a6b3-10aaeb77aca3\\u002Foutput.mpd\",\"duration\":5.7,\"frameRate\":20,\"thumbnails\":{\"preview\":{\"url\":\"https:\\u002F\\u002Fmegapx-assets.dcard.tw\\u002Fvideos\\u002F8c06124e-59f1-4b14-a6b3-10aaeb77aca3\\u002Fpreview.mp4\",\"size\":23417,\"type\":\"video\\u002Fmp4\",\"width\":180,\"height\":350}},\"uploadedAt\":\"2019-12-28T16:34:34.419Z\"},\"likeCount\":159,\"viewCount\":667,\"createdAt\":\"2019-12-28T16:34:50.005Z\",\"updatedAt\":\"2019-12-29T11:23:23.319Z\",\"forumName\":\"寵物\",\"forumAlias\":\"pet\",\"score\":1.92952760938916,\"featured\":true,\"position\":0.929527609389159,\"gender\":\"F\",\"school\":\"中國文化大學\",\"read\":false,\"postAvatar\":\"\",\"duration\":5.7,\"mediaHeight\":1396,\"mediaWidth\":720,\"previewHeight\":350,\"previewWidth\":180,\"previewUrl\":\"https:\\u002F\\u002Fmegapx-assets.dcard.tw\\u002Fvideos\\u002F8c06124e-59f1-4b14-a6b3-10aaeb77aca3\\u002Fpreview.mp4\"},\"8a43bd3e-64d5-443f-883a-11c9ba8b46c9\":{\"id\":\"8a43bd3e-64d5-443f-883a-11c9ba8b46c9\",\"mediaUrl\":\"https:\\u002F\\u002Fgcs.dcard.tw\\u002Fstory\\u002Fimages\\u002Fa5c5042c-3c45-471d-b334-d65cef8fd11d.jpg\",\"mediaType\":\"image\",\"mediaData\":null,\"likeCount\":149,\"viewCount\":608,\"createdAt\":\"2019-12-28T16:24:11.120Z\",\"updatedAt\":\"2019-12-29T11:23:42.311Z\",\"forumName\":\"寵物\",\"forumAlias\":\"pet\",\"score\":1.91673343690315,\"featured\":true,\"position\":0.916733436903147,\"gender\":\"F\",\"school\":\"中國文化大學\",\"read\":false,\"postAvatar\":\"\",\"duration\":5,\"previewUrl\":\"https:\\u002F\\u002Fgcs.dcard.tw\\u002Fstory\\u002Fimages\\u002Fa5c5042c-3c45-471d-b334-d65cef8fd11d.jpg\"},\"cad121ee-bcd6-41e6-a1c0-d3ccbeec29ca\":{\"id\":\"cad121ee-bcd6-41e6-a1c0-d3ccbeec29ca\",\"mediaUrl\":\"https:\\u002F\\u002Fgcs.dcard.tw\\u002Fstory\\u002Fimages\\u002Fd59765c2-690c-4b12-b8c1-d61f5392d0a3.jpg\",\"mediaType\":\"image\",\"mediaData\":null,\"likeCount\":60,\"viewCount\":865,\"createdAt\":\"2019-12-28T22:13:00.804Z\",\"updatedAt\":\"2019-12-29T11:20:39.713Z\",\"forumName\":\"美食\",\"forumAlias\":\"food\",\"score\":1.90508638046544,\"featured\":true,\"position\":0.905086380465437,\"gender\":\"F\",\"school\":\"佛萊堡大學\",\"read\":false,\"postAvatar\":\"\",\"duration\":5,\"previewUrl\":\"https:\\u002F\\u002Fgcs.dcard.tw\\u002Fstory\\u002Fimages\\u002Fd59765c2-690c-4b12-b8c1-d61f5392d0a3.jpg\"},\"b46c6286-89de-47cd-8be4-8473875252a9\":{\"id\":\"b46c6286-89de-47cd-8be4-8473875252a9\",\"mediaUrl\":\"https:\\u002F\\u002Fmegapx-assets.dcard.tw\\u002Fvideos\\u002F0c683f15-653a-4271-8895-85db6506efac\\u002Fmaster.m3u8\",\"mediaType\":\"megapx\\u002Fvideo\",\"mediaData\":{\"id\":\"0c683f15-653a-4271-8895-85db6506efac\",\"url\":\"https:\\u002F\\u002Fmegapx-assets.dcard.tw\\u002Fvideos\\u002F0c683f15-653a-4271-8895-85db6506efac\\u002Forig\",\"name\":\"20191229_011217.mp4\",\"size\":18196233,\"type\":\"video\\u002Fmp4\",\"width\":1280,\"height\":720,\"hlsUrl\":\"https:\\u002F\\u002Fmegapx-assets.dcard.tw\\u002Fvideos\\u002F0c683f15-653a-4271-8895-85db6506efac\\u002Fmaster.m3u8\",\"status\":\"SUCCEED\",\"dashUrl\":\"https:\\u002F\\u002Fmegapx-assets.dcard.tw\\u002Fvideos\\u002F0c683f15-653a-4271-8895-85db6506efac\\u002Foutput.mpd\",\"duration\":10.354356,\"frameRate\":30,\"thumbnails\":{\"preview\":{\"url\":\"https:\\u002F\\u002Fmegapx-assets.dcard.tw\\u002Fvideos\\u002F0c683f15-653a-4271-8895-85db6506efac\\u002Fpreview.mp4\",\"size\":16221,\"type\":\"video\\u002Fmp4\",\"width\":320,\"height\":180}},\"uploadedAt\":\"2019-12-28T17:13:14.115Z\"},\"likeCount\":133,\"viewCount\":492,\"createdAt\":\"2019-12-28T17:13:44.420Z\",\"updatedAt\":\"2019-12-29T11:24:52.579Z\",\"forumName\":\"寵物\",\"forumAlias\":\"pet\",\"score\":1.89125901689254,\"featured\":true,\"position\":0.891259016892538,\"gender\":\"F\",\"school\":\"國立臺南大學\",\"read\":false,\"postAvatar\":\"\",\"duration\":10.354356,\"mediaHeight\":720,\"mediaWidth\":1280,\"previewHeight\":180,\"previewWidth\":320,\"previewUrl\":\"https:\\u002F\\u002Fmegapx-assets.dcard.tw\\u002Fvideos\\u002F0c683f15-653a-4271-8895-85db6506efac\\u002Fpreview.mp4\"},\"50f9db0f-077f-4ed7-970b-4b06a1b6be00\":{\"id\":\"50f9db0f-077f-4ed7-970b-4b06a1b6be00\",\"mediaUrl\":\"https:\\u002F\\u002Fgcs.dcard.tw\\u002Fstory\\u002Fimages\\u002F9de6edf2-2e6d-433e-8a96-0d30b54ea15a.jpg\",\"mediaType\":\"image\",\"mediaData\":null,\"likeCount\":132,\"viewCount\":450,\"createdAt\":\"2019-12-29T05:05:02.790Z\",\"updatedAt\":\"2019-12-29T11:25:36.440Z\",\"forumName\":\"寵物\",\"forumAlias\":\"pet\",\"score\":1.88942971766089,\"featured\":true,\"position\":0.889429717660886,\"gender\":\"F\",\"school\":\"長庚科技大學\",\"read\":false,\"postAvatar\":\"\",\"duration\":5,\"previewUrl\":\"https:\\u002F\\u002Fgcs.dcard.tw\\u002Fstory\\u002Fimages\\u002F9de6edf2-2e6d-433e-8a96-0d30b54ea15a.jpg\"},\"f51b47c1-7fb5-444e-85ec-f2bec5e73f55\":{\"id\":\"f51b47c1-7fb5-444e-85ec-f2bec5e73f55\",\"mediaUrl\":\"https:\\u002F\\u002Fgcs.dcard.tw\\u002Fstory\\u002Fimages\\u002F91ad28cc-ed06-4364-8bb7-b36102d6f0bb.jpg\",\"mediaType\":\"image\",\"mediaData\":null,\"likeCount\":119,\"viewCount\":431,\"createdAt\":\"2019-12-28T15:18:45.087Z\",\"updatedAt\":\"2019-12-29T11:25:18.321Z\",\"forumName\":\"寵物\",\"forumAlias\":\"pet\",\"score\":1.86265098665028,\"featured\":true,\"position\":0.862650986650278,\"gender\":\"F\",\"school\":\"國立臺灣師範大學\",\"read\":false,\"postAvatar\":\"\",\"duration\":5,\"previewUrl\":\"https:\\u002F\\u002Fgcs.dcard.tw\\u002Fstory\\u002Fimages\\u002F91ad28cc-ed06-4364-8bb7-b36102d6f0bb.jpg\"},\"7fff13f4-7fed-4acb-b07c-cd34ad481757\":{\"id\":\"7fff13f4-7fed-4acb-b07c-cd34ad481757\",\"mediaUrl\":\"https:\\u002F\\u002Fgcs.dcard.tw\\u002Fstory\\u002Fimages\\u002F4efa77fe-9e88-4ab1-827b-f48ffc8c852d.jpg\",\"mediaType\":\"image\",\"mediaData\":null,\"likeCount\":110,\"viewCount\":432,\"createdAt\":\"2019-12-28T22:29:44.610Z\",\"updatedAt\":\"2019-12-29T11:25:02.694Z\",\"forumName\":\"寵物\",\"forumAlias\":\"pet\",\"score\":1.84040032028813,\"featured\":true,\"position\":0.840400320288132,\"gender\":\"F\",\"school\":\"世新大學\",\"read\":false,\"postAvatar\":\"\",\"duration\":5,\"previewUrl\":\"https:\\u002F\\u002Fgcs.dcard.tw\\u002Fstory\\u002Fimages\\u002F4efa77fe-9e88-4ab1-827b-f48ffc8c852d.jpg\"},\"148065f7-e490-4939-bdb6-02700d2079c2\":{\"id\":\"148065f7-e490-4939-bdb6-02700d2079c2\",\"mediaUrl\":\"https:\\u002F\\u002Fgcs.dcard.tw\\u002Fstory\\u002Fimages\\u002F38eaed85-d437-4d59-b8fc-b5e37f9b892e.jpg\",\"mediaType\":\"image\",\"mediaData\":null,\"likeCount\":42,\"viewCount\":997,\"createdAt\":\"2019-12-28T17:56:21.703Z\",\"updatedAt\":\"2019-12-29T11:20:26.522Z\",\"forumName\":\"美食\",\"forumAlias\":\"food\",\"score\":1.80763326454653,\"featured\":true,\"position\":0.807633264546526,\"gender\":\"F\",\"school\":\"實踐大學\",\"read\":false,\"postAvatar\":\"\",\"duration\":5,\"previewUrl\":\"https:\\u002F\\u002Fgcs.dcard.tw\\u002Fstory\\u002Fimages\\u002F38eaed85-d437-4d59-b8fc-b5e37f9b892e.jpg\"},\"a0737eb5-b08a-40fc-b138-1394f40d55b0\":{\"id\":\"a0737eb5-b08a-40fc-b138-1394f40d55b0\",\"mediaUrl\":\"https:\\u002F\\u002Fmegapx-assets.dcard.tw\\u002Fvideos\\u002F375f3300-425d-4311-bda3-6866b4c6a7da\\u002Fmaster.m3u8\",\"mediaType\":\"megapx\\u002Fvideo\",\"mediaData\":{\"id\":\"375f3300-425d-4311-bda3-6866b4c6a7da\",\"url\":\"https:\\u002F\\u002Fmegapx-assets.dcard.tw\\u002Fvideos\\u002F375f3300-425d-4311-bda3-6866b4c6a7da\\u002Forig\",\"name\":\"20191228_231339.mp4\",\"size\":33123189,\"type\":\"video\\u002Fmp4\",\"width\":1080,\"height\":1920,\"hlsUrl\":\"https:\\u002F\\u002Fmegapx-assets.dcard.tw\\u002Fvideos\\u002F375f3300-425d-4311-bda3-6866b4c6a7da\\u002Fmaster.m3u8\",\"status\":\"SUCCEED\",\"dashUrl\":\"https:\\u002F\\u002Fmegapx-assets.dcard.tw\\u002Fvideos\\u002F375f3300-425d-4311-bda3-6866b4c6a7da\\u002Foutput.mpd\",\"duration\":6.587533,\"frameRate\":59.681697612732094,\"thumbnails\":{\"preview\":{\"url\":\"https:\\u002F\\u002Fmegapx-assets.dcard.tw\\u002Fvideos\\u002F375f3300-425d-4311-bda3-6866b4c6a7da\\u002Fpreview.mp4\",\"size\":15441,\"type\":\"video\\u002Fmp4\",\"width\":180,\"height\":320}},\"uploadedAt\":\"2019-12-28T22:14:14.361Z\"},\"likeCount\":39,\"viewCount\":747,\"createdAt\":\"2019-12-28T22:15:34.219Z\",\"updatedAt\":\"2019-12-29T11:20:52.159Z\",\"forumName\":\"美食\",\"forumAlias\":\"food\",\"score\":1.78359686496629,\"featured\":true,\"position\":0.783596864966287,\"gender\":\"F\",\"school\":\"佛萊堡大學\",\"read\":false,\"postAvatar\":\"\",\"duration\":6.587533,\"mediaHeight\":1920,\"mediaWidth\":1080,\"previewHeight\":320,\"previewWidth\":180,\"previewUrl\":\"https:\\u002F\\u002Fmegapx-assets.dcard.tw\\u002Fvideos\\u002F375f3300-425d-4311-bda3-6866b4c6a7da\\u002Fpreview.mp4\"}},\"paginations\":{\"all\":{\"status\":\"DEFAULT\",\"indexes\":[\"9806546a-be8c-41a4-9af8-8ef00518e414\",\"5ccafd82-da53-430e-ba8d-189e2f7b696a\",\"a6420ee3-2a9f-4544-a344-d583e5c0aeee\",\"d63fdb5e-5b8f-4c3d-9daf-fda4d804a9b0\",\"3a205ba8-97d5-43b5-a998-1e271e5ad3ee\",\"c5b672a7-f425-4530-84f5-e2fa349b49a9\",\"ea0a0775-2a26-4066-a7ad-55153657330d\",\"a094f5e8-bc00-43b8-8c97-dd3063c3e27d\",\"1abc0be1-7302-43c8-b2e8-13190c694b95\",\"20c04ec3-ade6-4ab8-88c7-2da6e66c9bb7\",\"d7bb2d81-d0d5-4f97-82ff-4f057eb9c8e4\",\"4678ffc7-6548-4ece-a98d-8058b590d3dd\",\"8a43bd3e-64d5-443f-883a-11c9ba8b46c9\",\"cad121ee-bcd6-41e6-a1c0-d3ccbeec29ca\",\"b46c6286-89de-47cd-8be4-8473875252a9\",\"50f9db0f-077f-4ed7-970b-4b06a1b6be00\",\"f51b47c1-7fb5-444e-85ec-f2bec5e73f55\",\"7fff13f4-7fed-4acb-b07c-cd34ad481757\",\"148065f7-e490-4939-bdb6-02700d2079c2\",\"a0737eb5-b08a-40fc-b138-1394f40d55b0\"],\"error\":null}},\"supportedForums\":[\"acg\",\"dressup\",\"entertainer\",\"food\",\"hairsalon\",\"midnightlab\",\"pet\",\"photography\",\"travel\",\"whysoserious\",\"makeup\",\"merryxmas\",\"midnightlab\",\"horoscopes\",\"pet\",\"whysoserious\",\"tvepisode\",\"hairsalon\",\"info\",\"funny\",\"food\",\"smallgoodthings\",\"photography\",\"pokemon\",\"entertainer\"]},\"layouts\":{\"loading\":false,\"all:popular\":[{\"created\":1539747740078,\"updated\":1540451003823,\"type\":\"topic\",\"index\":0,\"id\":\"5bc6af9ccf56b9210bc04898\"},{\"created\":1542597093160,\"updated\":1559644928498,\"type\":\"banner\",\"index\":1,\"id\":\"5bf229e5c1f068abe301f11d\",\"payload\":{\"queries\":{}}},{\"created\":1570615196699,\"updated\":1570615196699,\"type\":\"featuredPosts\",\"index\":5,\"id\":\"5d9daf9c30578519d345fa3c\"},{\"created\":1539747667606,\"updated\":1576749681527,\"type\":\"story\",\"index\":6,\"payload\":{\"type\":\"popular\"},\"id\":\"5bc6af53cf56b970d9c04894\"},{\"created\":1574650953749,\"updated\":1576741650492,\"type\":\"hawkeye\",\"index\":7,\"id\":\"5ddb44496ee58b01d342e1f4\",\"payload\":{\"post\":{}}},{\"created\":1574651097375,\"updated\":1574651097375,\"type\":\"hawkeye\",\"index\":13,\"id\":\"5ddb44d9955d1a8534d56158\",\"payload\":{\"post\":{}}},{\"created\":1574651141231,\"updated\":1574651141231,\"type\":\"hawkeye\",\"index\":17,\"id\":\"5ddb4505955d1a581fd5615b\",\"payload\":{\"post\":{}}}]}}</script>\n<script defer=\"\" src=\"/build/common.2e94df9b.js\" type=\"text/javascript\"></script>\n<script defer=\"\" src=\"/build/main.d4995e01.js\" type=\"text/javascript\"></script>\n<script defer=\"\" src=\"/build/vendors.6f5594be.js\" type=\"text/javascript\"></script>\n<script defer=\"\" src=\"/build/myPages-myCollections-MyCollectionsContainer~myPages-myPosts-MyPostsContainer~personaPage-PersonaPag~06924c50.14468413.js\" type=\"text/javascript\"></script>\n<script defer=\"\" src=\"/build/commentPage-CommentPageContainer~postPage-PostPageContainer~posts-PostsContainer.bc8b4d00.js\" type=\"text/javascript\"></script>\n<script defer=\"\" src=\"/build/postPage-PostPageContainer.afc9bda3.js\" type=\"text/javascript\"></script>\n<script defer=\"\" src=\"/build/posts-PostsContainer.c25dc20c.js\" type=\"text/javascript\"></script>\n<script id=\"__LOADABLE_REQUIRED_CHUNKS__\" type=\"application/json\">[0,1,2,3,26]</script>\n<script>window.$STATE={config: {\"isRWD\":false,\"proxy\":{\"/_banner\":\"http://dcard-carousel/\",\"/_paging\":\"https://www.dcard.tw/\",\"/_moderator\":\"https://moderator.dcard.tw/\",\"/_mercury/v2/post\":\"https://mercury.dcard.tw/\",\"/_giftbox\":\"https://giftbox.dcard.tw/\"}}}</script>\n</body>\n</html>\n\n"
    }
   ],
   "source": [
    "print('為什麼要使用 BeatifulSoup 處理？處理後的型態是什麼？ => ')\n",
    "# 使用 BeatifulSoup 處理後，資料型態為BeatifulSoup解析後的巢狀物件結構，標籤、類別、內容等均可透過指令取得\n",
    "soup=BeautifulSoup(response) # 以 BeautifulSoup 解析 HTML 程式碼\n",
    "print(type(soup))\n",
    "print(soup)"
   ]
  },
  {
   "cell_type": "markdown",
   "metadata": {},
   "source": [
    "### 2. 知乎： https://www.zhihu.com/explore"
   ]
  },
  {
   "cell_type": "code",
   "execution_count": 13,
   "metadata": {},
   "outputs": [
    {
     "name": "stdout",
     "output_type": "stream",
     "text": "<html>\n<head><title>400 Bad Request</title></head>\n<body bgcolor=\"white\">\n<center><h1>400 Bad Request</h1></center>\n<hr><center>openresty</center>\n</body>\n</html>\n\n"
    }
   ],
   "source": [
    "url = 'https://www.zhihu.com/explore'\n",
    "r = requests.get(url)\n",
    "r.encoding = 'utf-8'\n",
    "\n",
    "print(r.text[0:600])"
   ]
  },
  {
   "cell_type": "markdown",
   "metadata": {},
   "source": [
    "### 3. 觀察一下知乎回來的資料好像有點怪怪的，該怎麼解決？"
   ]
  },
  {
   "cell_type": "code",
   "execution_count": 14,
   "metadata": {},
   "outputs": [
    {
     "name": "stdout",
     "output_type": "stream",
     "text": "<!doctype html>\n<html lang=\"zh\" data-hairline=\"true\" data-theme=\"light\"><head><meta charSet=\"utf-8\"/><title data-react-helmet=\"true\">发现 - 知乎</title><meta name=\"viewport\" content=\"width=device-width,initial-scale=1,maximum-scale=1\"/><meta name=\"renderer\" content=\"webkit\"/><meta name=\"force-rendering\" content=\"webkit\"/><meta http-equiv=\"X-UA-Compatible\" content=\"IE=edge,chrome=1\"/><meta name=\"google-site-verification\" content=\"FTeR0c8arOPKh8c5DYh_9uu98_zJbaWw53J-Sch9MTg\"/><meta name=\"360_ssp_verify\" content=\"693549ae953a04cb4990f79614e4392d\"/><meta name=\"description\" property=\"og:description\" co\n"
    }
   ],
   "source": [
    "import requests\n",
    "url = 'https://www.zhihu.com/explore'\n",
    "# 定義標頭檔內容：經過測試之後，發現知乎伺服器只會檢查 user-agent\n",
    "header={'user-agent': 'Mozilla/5.0 (Windows NT 10.0; Win64; x64) AppleWebKit/537.36 (KHTML, like Gecko) Chrome/79.0.3945.88 Safari/537.36'}\n",
    "r = requests.get(url,headers=header)\n",
    "\n",
    "r.encoding = 'utf-8'\n",
    "print(r.text[0:600])"
   ]
  },
  {
   "cell_type": "code",
   "execution_count": null,
   "metadata": {},
   "outputs": [],
   "source": []
  },
  {
   "cell_type": "code",
   "execution_count": null,
   "metadata": {},
   "outputs": [],
   "source": []
  }
 ],
 "metadata": {
  "kernelspec": {
   "display_name": "Python 3",
   "language": "python",
   "name": "python3"
  },
  "language_info": {
   "codemirror_mode": {
    "name": "ipython",
    "version": 3
   },
   "file_extension": ".py",
   "mimetype": "text/x-python",
   "name": "python",
   "nbconvert_exporter": "python",
   "pygments_lexer": "ipython3",
   "version": "3.7.4"
  }
 },
 "nbformat": 4,
 "nbformat_minor": 2
}